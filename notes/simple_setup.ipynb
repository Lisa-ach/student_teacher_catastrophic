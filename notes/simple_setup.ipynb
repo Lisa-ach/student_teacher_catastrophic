{
 "cells": [
  {
   "cell_type": "code",
   "execution_count": 1,
   "metadata": {},
   "outputs": [],
   "source": [
    "import matplotlib.pyplot as plt\n",
    "\n",
    "import numpy as np\n",
    "\n",
    "import torch\n",
    "import torch.nn as nn\n",
    "\n",
    "from utils import custom_activations\n",
    "\n",
    "from typing import List, Union"
   ]
  },
  {
   "cell_type": "markdown",
   "metadata": {},
   "source": [
    "## Network Classes"
   ]
  },
  {
   "cell_type": "code",
   "execution_count": 2,
   "metadata": {},
   "outputs": [],
   "source": [
    "class TeacherNetwork(nn.Module):\n",
    "    \n",
    "    def __init__(\n",
    "        self, \n",
    "        input_dimension: int, \n",
    "        output_dimension: int,\n",
    "        teacher_hidden_dimension: int, \n",
    "        teacher_initialisation_std: float, \n",
    "        teacher_hidden_scaling: bool, \n",
    "        teacher_forward_scaling: bool,\n",
    "        unit_norm_teacher_head: bool\n",
    "    ):\n",
    "        self._input_dimension = input_dimension\n",
    "        self._output_dimension = output_dimension\n",
    "        self._teacher_hidden_dimension = teacher_hidden_dimension\n",
    "        self._teacher_initialisation_std = teacher_initialisation_std\n",
    "        self._unit_norm_teacher_head = unit_norm_teacher_head\n",
    "        \n",
    "        if teacher_hidden_scaling:\n",
    "            self._hidden_scaling = 1/np.sqrt(input_dimension)\n",
    "        else:\n",
    "            self._hidden_scaling = 1.\n",
    "            \n",
    "        if teacher_forward_scaling:\n",
    "            self._forward_scaling = 1 / np.sqrt(teacher_hidden_dimension)\n",
    "        else:\n",
    "            self._forward_scaling = 1.\n",
    "        \n",
    "        self._activation = custom_activations.scaled_erf_activation\n",
    "        \n",
    "        super().__init__()\n",
    "        \n",
    "        self._construct_layers()\n",
    "        \n",
    "    def _construct_layers(self):\n",
    "        \n",
    "        self._layer1 = nn.Linear(self._input_dimension, self._teacher_hidden_dimension, bias=False)\n",
    "        self._layer2 = nn.Linear(self._teacher_hidden_dimension, self._output_dimension, bias=False)\n",
    "        \n",
    "        nn.init.normal_(self._layer1.weight, std=self._teacher_initialisation_std)\n",
    "        \n",
    "        if self._unit_norm_teacher_head:\n",
    "            head_norm = torch.norm(self._layer2.weight)\n",
    "            normalised_head = self._layer2.weight / head_norm\n",
    "            self._layer2.weight.data = normalised_head\n",
    "            \n",
    "        else:\n",
    "            nn.init.normal_(self._layer2.weight, std=self._teacher_initialisation_std)\n",
    "            \n",
    "        for param in self.parameters():\n",
    "            param.requires_grad = False\n",
    "        \n",
    "    def forward(self, x):\n",
    "        x = self._activation(self._hidden_scaling * self._layer1(x))\n",
    "        y = self._forward_scaling * self._layer2(x)\n",
    "        return y"
   ]
  },
  {
   "cell_type": "code",
   "execution_count": 3,
   "metadata": {},
   "outputs": [],
   "source": [
    "class DeepStudentNetwork(nn.Module):\n",
    "    \n",
    "    def __init__(\n",
    "        self, \n",
    "        input_dimension: int, \n",
    "        output_dimension: int,\n",
    "        student_hidden_dimension: int, \n",
    "        student_initialisation_std: float, \n",
    "        student_hidden_scaling: bool, \n",
    "        student_forward_scaling: bool,\n",
    "    ):\n",
    "        self._input_dimension = input_dimension\n",
    "        self._output_dimension = output_dimension\n",
    "        self._student_hidden_dimension = student_hidden_dimension\n",
    "        self._student_initialisation_std = student_initialisation_std\n",
    "        \n",
    "        if student_hidden_scaling:\n",
    "            self._hidden_scaling = np.sqrt(input_dimension)\n",
    "        else:\n",
    "            self._hidden_scaling = 1.\n",
    "            \n",
    "        if student_forward_scaling:\n",
    "            self._forward_scaling = 1 / student_hidden_dimension\n",
    "        else:\n",
    "            self._forward_scaling = 1.\n",
    "            \n",
    "        self._activation = custom_activations.scaled_erf_activation\n",
    "        \n",
    "        super().__init__()\n",
    "    \n",
    "        self._construct_layers()\n",
    "        \n",
    "    def _construct_layers(self):\n",
    "        \n",
    "        self._layer1 = nn.Linear(self._input_dimension, self._student_hidden_dimension, bias=False)\n",
    "        \n",
    "        nn.init.normal_(self._layer1.weight, std=self._student_initialisation_std)\n",
    "        \n",
    "        self._heads = nn.ModuleList()\n",
    "        \n",
    "        head1 = nn.Linear(self._student_hidden_dimension, self._output_dimension, bias=False)\n",
    "        head2 = nn.Linear(self._student_hidden_dimension, self._output_dimension, bias=False)\n",
    "        \n",
    "        nn.init.normal_(head1.weight, std=self._student_initialisation_std)\n",
    "        nn.init.normal_(head2.weight, std=self._student_initialisation_std)\n",
    "\n",
    "        self._heads.append(head1)\n",
    "        self._heads.append(head2)\n",
    "            \n",
    "    def switch(self, index: int):\n",
    "        self._active_head_index = index\n",
    "        inactive_head_index = int(not index)\n",
    "        for param in self._heads[inactive_head_index].parameters():\n",
    "            param.requires_grad = False\n",
    "        for param in self._heads[index].parameters():\n",
    "            param.requires_grad = True\n",
    "        \n",
    "    def forward(self, x):\n",
    "        x = self._activation(self._hidden_scaling * self._layer1(x))\n",
    "        y = self._forward_scaling * self._heads[self._active_head_index](x)\n",
    "        return y\n",
    "    \n",
    "    def forward_all(self, x):\n",
    "        x = self._activation(self._hidden_scaling * self._layer1(x))\n",
    "        ys = [self._forward_scaling * head(x) for head in self._heads]\n",
    "        return ys"
   ]
  },
  {
   "cell_type": "code",
   "execution_count": 4,
   "metadata": {},
   "outputs": [],
   "source": [
    "class OneLayerStudentNetwork(nn.Module):\n",
    "    \n",
    "    def __init__(\n",
    "        self, \n",
    "        input_dimension: int, \n",
    "        output_dimension: int,\n",
    "        student_initialisation_std: float, \n",
    "        student_hidden_scaling: bool, \n",
    "        activate: bool\n",
    "    ):\n",
    "        \n",
    "        self._input_dimension = input_dimension\n",
    "        self._output_dimension = output_dimension\n",
    "        self._student_initialisation_std = student_initialisation_std\n",
    "        \n",
    "        if student_hidden_scaling:\n",
    "            self._hidden_scaling = np.sqrt(input_dimension)\n",
    "        else:\n",
    "            self._hidden_scaling = 1.\n",
    "            \n",
    "        self._activation = custom_activations.scaled_erf_activation\n",
    "        self._activate = activate\n",
    "        \n",
    "        super().__init__()\n",
    "    \n",
    "        self._construct_layers()\n",
    "        \n",
    "    def _construct_layers(self):\n",
    "        \n",
    "        self._heads = nn.ModuleList()\n",
    "        \n",
    "        head1 = nn.Linear(self._input_dimension, self._output_dimension, bias=False)\n",
    "        head2 = nn.Linear(self._input_dimension, self._output_dimension, bias=False)\n",
    "        \n",
    "        nn.init.normal_(head1.weight, std=self._student_initialisation_std)\n",
    "        nn.init.normal_(head2.weight, std=self._student_initialisation_std)\n",
    "\n",
    "        self._heads.append(head1)\n",
    "        self._heads.append(head2)\n",
    "            \n",
    "    def switch(self, index: int):\n",
    "        self._active_head_index = index\n",
    "        inactive_head_index = int(not index)\n",
    "        for param in self._heads[inactive_head_index].parameters():\n",
    "            param.requires_grad = False\n",
    "        for param in self._heads[index].parameters():\n",
    "            param.requires_grad = True\n",
    "        \n",
    "    def forward(self, x):\n",
    "        x = self._hidden_scaling * self._heads[self._active_head_index](x)\n",
    "        if self._activate:\n",
    "            y = self._activation(x)\n",
    "        else:\n",
    "            y = x\n",
    "        return y\n",
    "    \n",
    "    def forward_all(self, x):\n",
    "        xs = [self._hidden_scaling * head(x) for head in self._heads]\n",
    "        if self._activate:\n",
    "            ys = [self._activation(x) for x in xs]\n",
    "        else:\n",
    "            ys = xs\n",
    "        return ys"
   ]
  },
  {
   "cell_type": "markdown",
   "metadata": {},
   "source": [
    "## Trainer Class"
   ]
  },
  {
   "cell_type": "code",
   "execution_count": 6,
   "metadata": {},
   "outputs": [],
   "source": [
    "class Trainer:\n",
    "    \n",
    "    def __init__(\n",
    "        self, \n",
    "        teachers: List[TeacherNetwork], \n",
    "        student: Union[DeepStudentNetwork, OneLayerStudentNetwork], \n",
    "        lr: float, \n",
    "        test_data: torch.Tensor,\n",
    "        verbose: bool = False\n",
    "    ):\n",
    "        self._teachers = teachers\n",
    "        self._student = student\n",
    "        \n",
    "        self._verbose = verbose\n",
    "        \n",
    "        self._loss_function = nn.MSELoss()\n",
    "        self._optimiser = torch.optim.SGD(self._student.parameters(), lr=lr)\n",
    "        \n",
    "        self._test_data = test_data\n",
    "        \n",
    "        self._test_teacher_output = [teacher(self._test_data) for teacher in self._teachers]\n",
    "        \n",
    "        self._test_loss_teacher_0 = []\n",
    "        self._test_loss_teacher_1 = []\n",
    "        \n",
    "    @property\n",
    "    def test_losses(self):\n",
    "        return self._test_loss_teacher_0, self._test_loss_teacher_1\n",
    "\n",
    "    def train(\n",
    "        self, \n",
    "        num_steps: int, \n",
    "        switch_steps: List[int],\n",
    "        test_frequency: int\n",
    "    ):    \n",
    "        switch_step_generator = iter(switch_steps)\n",
    "\n",
    "        try:\n",
    "            next_switch_step = next(switch_step_generator)\n",
    "        except StopIteration:\n",
    "            next_switch_step = np.inf\n",
    "\n",
    "        teacher_index = 0\n",
    "        self._student.switch(teacher_index)\n",
    "\n",
    "        for i in range(num_steps):\n",
    "\n",
    "            if i % test_frequency == 0:\n",
    "                with torch.no_grad():\n",
    "\n",
    "                    test_student_outputs = self._student.forward_all(self._test_data)\n",
    "\n",
    "                    test_loss = [\n",
    "                        self._loss_function(student_output, teacher_output).item() \n",
    "                        for student_output, teacher_output in zip(test_student_outputs, self._test_teacher_output)\n",
    "                    ]\n",
    "                    self._test_loss_teacher_0.append(test_loss[0])\n",
    "                    self._test_loss_teacher_1.append(test_loss[1])\n",
    "\n",
    "            if i == next_switch_step:\n",
    "                teacher_index = int(not teacher_index)\n",
    "                self._student.switch(teacher_index)\n",
    "                try:\n",
    "                    next_switch_step = next(switch_step_generator)\n",
    "                except StopIteration:\n",
    "                    next_switch_step = np.inf\n",
    "\n",
    "            if self._verbose and i % 500 == 0 and i != 0:\n",
    "                print(f\"step {i}. Latest errors = {test_loss}\")\n",
    "\n",
    "            data = torch.from_numpy(np.random.normal(size=(1, input_dimension))).to(torch.float32)\n",
    "\n",
    "            teacher_output = self._teachers[teacher_index](data)\n",
    "            student_output = self._student(data)\n",
    "\n",
    "            loss = self._loss_function(student_output, teacher_output)\n",
    "\n",
    "            self._optimiser.zero_grad()\n",
    "            loss.backward()\n",
    "            self._optimiser.step()"
   ]
  },
  {
   "cell_type": "markdown",
   "metadata": {},
   "source": [
    "## Params"
   ]
  },
  {
   "cell_type": "code",
   "execution_count": 7,
   "metadata": {},
   "outputs": [],
   "source": [
    "input_dimension = 15\n",
    "teacher_hidden_dimension = 500\n",
    "student_hidden_dimension = 1000\n",
    "output_dimension = 1\n",
    "\n",
    "teacher_hidden_scaling = True\n",
    "student_hidden_scaling = True\n",
    "\n",
    "teacher_forward_scaling = True\n",
    "student_forward_scaling = True\n",
    "\n",
    "unit_norm_teacher_head = False\n",
    "teacher_initialisation_std = 1\n",
    "student_initialisation_std = 0.001\n",
    "\n",
    "num_steps = 500000\n",
    "two_layer_lr = 5\n",
    "one_layer_lr = 0.0001\n",
    "test_frequency = 100\n",
    "\n",
    "test_set_size = 20000\n",
    "\n",
    "switch_steps = []"
   ]
  },
  {
   "cell_type": "code",
   "execution_count": 8,
   "metadata": {},
   "outputs": [],
   "source": [
    "test_data = torch.from_numpy(np.random.normal(size=(test_set_size, input_dimension))).to(torch.float32)"
   ]
  },
  {
   "cell_type": "code",
   "execution_count": 9,
   "metadata": {},
   "outputs": [],
   "source": [
    "teachers = [\n",
    "    TeacherNetwork(input_dimension=input_dimension, output_dimension=output_dimension, teacher_hidden_dimension=teacher_hidden_dimension, teacher_initialisation_std=teacher_initialisation_std, teacher_hidden_scaling=teacher_hidden_scaling, teacher_forward_scaling=teacher_forward_scaling, unit_norm_teacher_head=unit_norm_teacher_head),\n",
    "    TeacherNetwork(input_dimension=input_dimension, output_dimension=output_dimension, teacher_hidden_dimension=teacher_hidden_dimension, teacher_initialisation_std=teacher_initialisation_std, teacher_hidden_scaling=teacher_hidden_scaling, teacher_forward_scaling=teacher_forward_scaling, unit_norm_teacher_head=unit_norm_teacher_head)\n",
    "]"
   ]
  },
  {
   "cell_type": "code",
   "execution_count": 10,
   "metadata": {},
   "outputs": [],
   "source": [
    "deep_student = DeepStudentNetwork(input_dimension=input_dimension, output_dimension=output_dimension, student_hidden_dimension=student_hidden_dimension, student_initialisation_std=student_initialisation_std, student_hidden_scaling=student_hidden_scaling, student_forward_scaling=student_forward_scaling)\n",
    "linear_one_layer_student = OneLayerStudentNetwork(input_dimension=input_dimension, output_dimension=output_dimension, student_initialisation_std=student_initialisation_std, student_hidden_scaling=student_hidden_scaling, activate=False)\n",
    "nonlinear_one_layer_student = OneLayerStudentNetwork(input_dimension=input_dimension, output_dimension=output_dimension, student_initialisation_std=student_initialisation_std, student_hidden_scaling=student_hidden_scaling, activate=True)"
   ]
  },
  {
   "cell_type": "code",
   "execution_count": 11,
   "metadata": {},
   "outputs": [],
   "source": [
    "deep_student_trainer = Trainer(teachers=teachers, student=deep_student, lr=two_layer_lr, test_data=test_data)\n",
    "linear_one_layer_student_trainer = Trainer(teachers=teachers, student=linear_one_layer_student, lr=one_layer_lr, test_data=test_data)\n",
    "nonlinear_one_layer_student_trainer = Trainer(teachers=teachers, student=nonlinear_one_layer_student, lr=one_layer_lr, test_data=test_data)"
   ]
  },
  {
   "cell_type": "code",
   "execution_count": 12,
   "metadata": {},
   "outputs": [],
   "source": [
    "deep_student_trainer.train(num_steps=num_steps, switch_steps=switch_steps, test_frequency=test_frequency)\n",
    "linear_one_layer_student_trainer.train(num_steps=num_steps, switch_steps=switch_steps, test_frequency=test_frequency)\n",
    "nonlinear_one_layer_student_trainer.train(num_steps=num_steps, switch_steps=switch_steps, test_frequency=test_frequency)"
   ]
  },
  {
   "cell_type": "code",
   "execution_count": 13,
   "metadata": {},
   "outputs": [
    {
     "name": "stderr",
     "output_type": "stream",
     "text": [
      "<ipython-input-13-4f435e9233d7>:6: UserWarning: Matplotlib is currently using module://ipykernel.pylab.backend_inline, which is a non-GUI backend, so cannot show the figure.\n",
      "  fig.show()\n"
     ]
    },
    {
     "data": {
      "image/png": "[encoded data removed]",
      "text/plain": [
       "<Figure size 432x288 with 1 Axes>"
      ]
     },
     "metadata": {
      "needs_background": "light"
     },
     "output_type": "display_data"
    }
   ],
   "source": [
    "fig = plt.figure()\n",
    "plt.plot(range(len(deep_student_trainer.test_losses[0])), np.log10(deep_student_trainer.test_losses[0]), label=\"Deep Network\")\n",
    "plt.plot(range(len(linear_one_layer_student_trainer.test_losses[0])), np.log10(linear_one_layer_student_trainer.test_losses[0]), label=\"Linear One Layer\")\n",
    "plt.plot(range(len(nonlinear_one_layer_student_trainer.test_losses[0])), np.log10(nonlinear_one_layer_student_trainer.test_losses[0]), label=\"Non-Linear One Layer\")\n",
    "plt.legend()\n",
    "fig.show()"
   ]
  },
  {
   "cell_type": "code",
   "execution_count": 14,
   "metadata": {},
   "outputs": [
    {
     "name": "stderr",
     "output_type": "stream",
     "text": [
      "<ipython-input-14-26ab96ceb78a>:4: UserWarning: Matplotlib is currently using module://ipykernel.pylab.backend_inline, which is a non-GUI backend, so cannot show the figure.\n",
      "  fig.show()\n"
     ]
    },
    {
     "data": {
      "image/png": "[encoded data removed]",
      "text/plain": [
       "<Figure size 432x288 with 1 Axes>"
      ]
     },
     "metadata": {
      "needs_background": "light"
     },
     "output_type": "display_data"
    }
   ],
   "source": [
    "fig = plt.figure()\n",
    "plt.plot(range(len(test_loss_teacher_0)), test_loss_teacher_0)\n",
    "plt.plot(range(len(test_loss_teacher_1)), test_loss_teacher_1)\n",
    "fig.show()"
   ]
  },
  {
   "cell_type": "code",
   "execution_count": 15,
   "metadata": {},
   "outputs": [
    {
     "name": "stderr",
     "output_type": "stream",
     "text": [
      "<ipython-input-15-f0edcff12716>:4: UserWarning: Matplotlib is currently using module://ipykernel.pylab.backend_inline, which is a non-GUI backend, so cannot show the figure.\n",
      "  fig.show()\n"
     ]
    },
    {
     "data": {
      "image/png": "[encoded data removed]",
      "text/plain": [
       "<Figure size 432x288 with 1 Axes>"
      ]
     },
     "metadata": {
      "needs_background": "light"
     },
     "output_type": "display_data"
    }
   ],
   "source": [
    "fig = plt.figure()\n",
    "plt.plot(range(len(test_loss_teacher_0)), np.log10(test_loss_teacher_0))\n",
    "plt.plot(range(len(test_loss_teacher_1)), np.log10(test_loss_teacher_1))\n",
    "fig.show()"
   ]
  },
  {
   "cell_type": "code",
   "execution_count": 16,
   "metadata": {},
   "outputs": [],
   "source": [
    "linear_test_loss_teacher_0, linear_test_loss_teacher_1 = train(num_steps=num_steps, switch_steps=switch_steps, teachers=teachers, student=linear_student, optimiser=linear_student_optimiser, loss_function=loss_function, test_data=test_data)"
   ]
  },
  {
   "cell_type": "code",
   "execution_count": 17,
   "metadata": {},
   "outputs": [
    {
     "name": "stderr",
     "output_type": "stream",
     "text": [
      "<ipython-input-17-3f6cfe1ab3f1>:4: UserWarning: Matplotlib is currently using module://ipykernel.pylab.backend_inline, which is a non-GUI backend, so cannot show the figure.\n",
      "  fig.show()\n"
     ]
    },
    {
     "data": {
      "image/png": "[encoded data removed]",
      "text/plain": [
       "<Figure size 432x288 with 1 Axes>"
      ]
     },
     "metadata": {
      "needs_background": "light"
     },
     "output_type": "display_data"
    }
   ],
   "source": [
    "fig = plt.figure()\n",
    "plt.plot(range(len(linear_test_loss_teacher_0)), linear_test_loss_teacher_0)\n",
    "plt.plot(range(len(linear_test_loss_teacher_1)), linear_test_loss_teacher_1)\n",
    "fig.show()"
   ]
  },
  {
   "cell_type": "code",
   "execution_count": 18,
   "metadata": {},
   "outputs": [
    {
     "name": "stderr",
     "output_type": "stream",
     "text": [
      "<ipython-input-18-c944ecb0bbee>:4: UserWarning: Matplotlib is currently using module://ipykernel.pylab.backend_inline, which is a non-GUI backend, so cannot show the figure.\n",
      "  fig.show()\n"
     ]
    },
    {
     "data": {
      "image/png": "[encoded data removed]",
      "text/plain": [
       "<Figure size 432x288 with 1 Axes>"
      ]
     },
     "metadata": {
      "needs_background": "light"
     },
     "output_type": "display_data"
    }
   ],
   "source": [
    "fig = plt.figure()\n",
    "plt.plot(range(len(linear_test_loss_teacher_0)), np.log10(linear_test_loss_teacher_0))\n",
    "plt.plot(range(len(linear_test_loss_teacher_1)), np.log10(linear_test_loss_teacher_1))\n",
    "fig.show()"
   ]
  },
  {
   "cell_type": "code",
   "execution_count": 19,
   "metadata": {},
   "outputs": [],
   "source": [
    "nonlinear_test_loss_teacher_0, nonlinear_test_loss_teacher_1 = train(num_steps=num_steps, switch_steps=switch_steps, teachers=teachers, student=nonlinear_student, optimiser=nonlinear_student_optimiser, loss_function=loss_function, test_data=test_data)"
   ]
  },
  {
   "cell_type": "code",
   "execution_count": 20,
   "metadata": {},
   "outputs": [
    {
     "name": "stderr",
     "output_type": "stream",
     "text": [
      "<ipython-input-20-b71783166b30>:4: UserWarning: Matplotlib is currently using module://ipykernel.pylab.backend_inline, which is a non-GUI backend, so cannot show the figure.\n",
      "  fig.show()\n"
     ]
    },
    {
     "data": {
      "image/png": "[encoded data removed]",
      "text/plain": [
       "<Figure size 432x288 with 1 Axes>"
      ]
     },
     "metadata": {
      "needs_background": "light"
     },
     "output_type": "display_data"
    }
   ],
   "source": [
    "fig = plt.figure()\n",
    "plt.plot(range(len(nonlinear_test_loss_teacher_0)), nonlinear_test_loss_teacher_0)\n",
    "plt.plot(range(len(nonlinear_test_loss_teacher_1)), nonlinear_test_loss_teacher_1)\n",
    "fig.show()"
   ]
  },
  {
   "cell_type": "code",
   "execution_count": 21,
   "metadata": {},
   "outputs": [
    {
     "name": "stderr",
     "output_type": "stream",
     "text": [
      "<ipython-input-21-0a291b35ccbd>:4: UserWarning: Matplotlib is currently using module://ipykernel.pylab.backend_inline, which is a non-GUI backend, so cannot show the figure.\n",
      "  fig.show()\n"
     ]
    },
    {
     "data": {
      "image/png": "[encoded data removed]",
      "text/plain": [
       "<Figure size 432x288 with 1 Axes>"
      ]
     },
     "metadata": {
      "needs_background": "light"
     },
     "output_type": "display_data"
    }
   ],
   "source": [
    "fig = plt.figure()\n",
    "plt.plot(range(len(nonlinear_test_loss_teacher_0)), np.log10(nonlinear_test_loss_teacher_0))\n",
    "plt.plot(range(len(nonlinear_test_loss_teacher_1)), np.log10(nonlinear_test_loss_teacher_1))\n",
    "fig.show()"
   ]
  },
  {
   "cell_type": "code",
   "execution_count": null,
   "metadata": {},
   "outputs": [],
   "source": []
  },
  {
   "cell_type": "code",
   "execution_count": 32,
   "metadata": {},
   "outputs": [],
   "source": [
    "a = np.random.normal(size=(500))"
   ]
  },
  {
   "cell_type": "code",
   "execution_count": 33,
   "metadata": {},
   "outputs": [],
   "source": [
    "m = np.linalg.norm(a)"
   ]
  },
  {
   "cell_type": "code",
   "execution_count": 34,
   "metadata": {},
   "outputs": [
    {
     "data": {
      "text/plain": [
       "20.58285655619136"
      ]
     },
     "execution_count": 34,
     "metadata": {},
     "output_type": "execute_result"
    }
   ],
   "source": [
    "m"
   ]
  },
  {
   "cell_type": "code",
   "execution_count": 36,
   "metadata": {},
   "outputs": [
    {
     "data": {
      "text/plain": [
       "0.9999999999999999"
      ]
     },
     "execution_count": 36,
     "metadata": {},
     "output_type": "execute_result"
    }
   ],
   "source": [
    "np.dot(a, a) / m ** 2"
   ]
  },
  {
   "cell_type": "code",
   "execution_count": null,
   "metadata": {},
   "outputs": [],
   "source": []
  }
 ],
 "metadata": {
  "kernelspec": {
   "display_name": "Python 3",
   "language": "python",
   "name": "python3"
  },
  "language_info": {
   "codemirror_mode": {
    "name": "ipython",
    "version": 3
   },
   "file_extension": ".py",
   "mimetype": "text/x-python",
   "name": "python",
   "nbconvert_exporter": "python",
   "pygments_lexer": "ipython3",
   "version": "3.8.6"
  }
 },
 "nbformat": 4,
 "nbformat_minor": 4
}
