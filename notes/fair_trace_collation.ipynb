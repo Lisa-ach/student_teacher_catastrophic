{
 "cells": [
  {
   "cell_type": "code",
   "execution_count": 11,
   "metadata": {},
   "outputs": [],
   "source": [
    "import os\n",
    "import pandas as pd\n",
    "import numpy as np\n",
    "import matplotlib.pyplot as plt\n",
    "\n",
    "from typing import List, Dict"
   ]
  },
  {
   "cell_type": "code",
   "execution_count": 15,
   "metadata": {},
   "outputs": [
    {
     "ename": "SyntaxError",
     "evalue": "invalid syntax (<ipython-input-15-22cbebf09620>, line 2)",
     "output_type": "error",
     "traceback": [
      "\u001b[0;36m  File \u001b[0;32m\"<ipython-input-15-22cbebf09620>\"\u001b[0;36m, line \u001b[0;32m2\u001b[0m\n\u001b[0;31m    organised_paths =\u001b[0m\n\u001b[0m                      ^\u001b[0m\n\u001b[0;31mSyntaxError\u001b[0m\u001b[0;31m:\u001b[0m invalid syntax\n"
     ]
    }
   ],
   "source": [
    "# get organised paths e.g. via get_organised_path function in fair_data_extraction.ipynb\n",
    "organised_paths = "
   ]
  },
  {
   "cell_type": "code",
   "execution_count": 21,
   "metadata": {},
   "outputs": [],
   "source": [
    "def collate_error_plots(organised_paths: Dict, ra: float, fa: float, seeds: List[int], transparency: float, save_path: str):\n",
    "    fig = plt.figure()\n",
    "    \n",
    "    for seed in seeds:\n",
    "        df = pd.read_csv(organised_paths[str(seed)][(fa, ra)])\n",
    "        log_error_0 = np.array(df.log_generalisation_error_0)\n",
    "        log_error_1 = np.array(df.log_generalisation_error_1)\n",
    "        plt.plot(range(len(log_error_0)), log_error_0, alpha=transparency, color='r')\n",
    "        plt.plot(range(len(log_error_1)), log_error_1, alpha=transparency, color='b')\n",
    "        plt.xlabel(\"Step\")\n",
    "        plt.ylabel(\"Log Generalisation Error\")\n",
    "        plt.title(f\"Feature: {fa} Readout: {ra}\")\n",
    "    \n",
    "    fig.savefig(save_path, dpi=100)"
   ]
  },
  {
   "cell_type": "code",
   "execution_count": 27,
   "metadata": {},
   "outputs": [],
   "source": [
    "def collate_error_plots_aligned_switch(organised_paths: Dict, ra: float, fa: float, seeds: List[int], transparency: float, threshold: float, save_path: str):\n",
    "    fig = plt.figure()\n",
    "    \n",
    "    for seed in seeds:\n",
    "        df = pd.read_csv(organised_paths[str(seed)][(fa, ra)])\n",
    "        log_error_0 = np.array(df.log_generalisation_error_0)\n",
    "        log_error_1 = np.array(df.log_generalisation_error_1)\n",
    "        # infer switch step from threshold\n",
    "        switch_step = np.where(log_error_0 < threshold)[0][0] + 1\n",
    "        x_range = range(-switch_step, len(log_error_0) - switch_step)\n",
    "        plt.plot(x_range, log_error_0, alpha=transparency, color='r')\n",
    "        plt.plot(x_range, log_error_1, alpha=transparency, color='b')\n",
    "        plt.xlabel(\"Step\")\n",
    "        plt.ylabel(\"Log Generalisation Error\")\n",
    "        plt.title(f\"Feature: {fa} Readout: {ra}\")\n",
    "    \n",
    "    fig.savefig(save_path, dpi=100)"
   ]
  },
  {
   "cell_type": "code",
   "execution_count": 19,
   "metadata": {},
   "outputs": [
    {
     "ename": "NameError",
     "evalue": "name 'organised_paths' is not defined",
     "output_type": "error",
     "traceback": [
      "\u001b[0;31m---------------------------------------------------------------------------\u001b[0m",
      "\u001b[0;31mNameError\u001b[0m                                 Traceback (most recent call last)",
      "\u001b[0;32m<ipython-input-19-28cf986ffa1f>\u001b[0m in \u001b[0;36m<module>\u001b[0;34m\u001b[0m\n\u001b[1;32m      6\u001b[0m \u001b[0;32mfor\u001b[0m \u001b[0mra\u001b[0m \u001b[0;32min\u001b[0m \u001b[0mnp\u001b[0m\u001b[0;34m.\u001b[0m\u001b[0mlinspace\u001b[0m\u001b[0;34m(\u001b[0m\u001b[0;36m0\u001b[0m\u001b[0;34m,\u001b[0m \u001b[0;36m1\u001b[0m\u001b[0;34m,\u001b[0m \u001b[0;36m11\u001b[0m\u001b[0;34m)\u001b[0m\u001b[0;34m:\u001b[0m\u001b[0;34m\u001b[0m\u001b[0;34m\u001b[0m\u001b[0m\n\u001b[1;32m      7\u001b[0m     \u001b[0;32mfor\u001b[0m \u001b[0mfa\u001b[0m \u001b[0;32min\u001b[0m \u001b[0mnp\u001b[0m\u001b[0;34m.\u001b[0m\u001b[0mlinspace\u001b[0m\u001b[0;34m(\u001b[0m\u001b[0;36m0\u001b[0m\u001b[0;34m,\u001b[0m \u001b[0;36m1\u001b[0m\u001b[0;34m,\u001b[0m \u001b[0;36m11\u001b[0m\u001b[0;34m)\u001b[0m\u001b[0;34m:\u001b[0m\u001b[0;34m\u001b[0m\u001b[0;34m\u001b[0m\u001b[0m\n\u001b[0;32m----> 8\u001b[0;31m         \u001b[0mcollate_error_plots\u001b[0m\u001b[0;34m(\u001b[0m\u001b[0morganised_paths\u001b[0m\u001b[0;34m=\u001b[0m\u001b[0morganised_paths\u001b[0m\u001b[0;34m,\u001b[0m \u001b[0mra\u001b[0m\u001b[0;34m=\u001b[0m\u001b[0mra\u001b[0m\u001b[0;34m,\u001b[0m \u001b[0mfa\u001b[0m\u001b[0;34m=\u001b[0m\u001b[0mfa\u001b[0m\u001b[0;34m,\u001b[0m \u001b[0mseeds\u001b[0m\u001b[0;34m=\u001b[0m\u001b[0mseeds\u001b[0m\u001b[0;34m,\u001b[0m \u001b[0mtransparency\u001b[0m\u001b[0;34m=\u001b[0m\u001b[0mtransparency\u001b[0m\u001b[0;34m,\u001b[0m \u001b[0msave_path\u001b[0m\u001b[0;34m=\u001b[0m\u001b[0mos\u001b[0m\u001b[0;34m.\u001b[0m\u001b[0mpath\u001b[0m\u001b[0;34m.\u001b[0m\u001b[0mjoin\u001b[0m\u001b[0;34m(\u001b[0m\u001b[0mplot_folder\u001b[0m\u001b[0;34m,\u001b[0m \u001b[0;34mf\"{fa}_{ra}_trace_collation.pdf\"\u001b[0m\u001b[0;34m)\u001b[0m\u001b[0;34m)\u001b[0m\u001b[0;34m\u001b[0m\u001b[0;34m\u001b[0m\u001b[0m\n\u001b[0m",
      "\u001b[0;31mNameError\u001b[0m: name 'organised_paths' is not defined"
     ]
    }
   ],
   "source": [
    "# first five seeds. Could use more if not too crowded.\n",
    "seeds = [0, 1, 2, 3, 4]\n",
    "# play around with transparency to see what looks manageable\n",
    "transparency = 0.5\n",
    "\n",
    "for ra in np.linspace(0, 1, 11):\n",
    "    for fa in np.linspace(0, 1, 11):\n",
    "        collate_error_plots(organised_paths=organised_paths, ra=ra, fa=fa, seeds=seeds, transparency=transparency, save_path=os.path.join(plot_folder, f\"{fa}_{ra}_trace_collation.pdf\"))"
   ]
  },
  {
   "cell_type": "code",
   "execution_count": 25,
   "metadata": {},
   "outputs": [
    {
     "data": {
      "text/plain": [
       "[0, 1, 2, 3, 4, 5, 6, 7, 8, 9]"
      ]
     },
     "execution_count": 25,
     "metadata": {},
     "output_type": "execute_result"
    }
   ],
   "source": [
    "list(range(10))"
   ]
  },
  {
   "cell_type": "code",
   "execution_count": 26,
   "metadata": {},
   "outputs": [
    {
     "data": {
      "text/plain": [
       "[-3, -2, -1, 0, 1, 2, 3, 4, 5, 6]"
      ]
     },
     "execution_count": 26,
     "metadata": {},
     "output_type": "execute_result"
    }
   ],
   "source": [
    "list(range(-3, 10-3))"
   ]
  },
  {
   "cell_type": "code",
   "execution_count": 28,
   "metadata": {},
   "outputs": [],
   "source": [
    "y = range(10)"
   ]
  },
  {
   "cell_type": "code",
   "execution_count": 29,
   "metadata": {},
   "outputs": [],
   "source": [
    "x = range(-3, len(y) - 3)"
   ]
  },
  {
   "cell_type": "code",
   "execution_count": 30,
   "metadata": {},
   "outputs": [
    {
     "data": {
      "text/plain": [
       "10"
      ]
     },
     "execution_count": 30,
     "metadata": {},
     "output_type": "execute_result"
    }
   ],
   "source": [
    "len(x)"
   ]
  },
  {
   "cell_type": "code",
   "execution_count": 31,
   "metadata": {},
   "outputs": [
    {
     "data": {
      "text/plain": [
       "10"
      ]
     },
     "execution_count": 31,
     "metadata": {},
     "output_type": "execute_result"
    }
   ],
   "source": [
    "len(y)"
   ]
  },
  {
   "cell_type": "code",
   "execution_count": null,
   "metadata": {},
   "outputs": [],
   "source": []
  }
 ],
 "metadata": {
  "kernelspec": {
   "display_name": "cata",
   "language": "python",
   "name": "cata"
  },
  "language_info": {
   "codemirror_mode": {
    "name": "ipython",
    "version": 3
   },
   "file_extension": ".py",
   "mimetype": "text/x-python",
   "name": "python",
   "nbconvert_exporter": "python",
   "pygments_lexer": "ipython3",
   "version": "3.8.6"
  }
 },
 "nbformat": 4,
 "nbformat_minor": 4
}
