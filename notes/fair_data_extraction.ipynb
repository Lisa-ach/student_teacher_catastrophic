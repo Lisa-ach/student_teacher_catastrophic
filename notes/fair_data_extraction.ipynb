{
 "cells": [
  {
   "cell_type": "code",
   "execution_count": 1,
   "id": "facial-theme",
   "metadata": {},
   "outputs": [],
   "source": [
    "import os"
   ]
  },
  {
   "cell_type": "code",
   "execution_count": 6,
   "id": "enormous-courtesy",
   "metadata": {},
   "outputs": [],
   "source": [
    "RESULTS_PATH = \"\"\n",
    "SEEDS = None # e.g. range(20)"
   ]
  },
  {
   "cell_type": "code",
   "execution_count": 27,
   "id": "expensive-veteran",
   "metadata": {},
   "outputs": [],
   "source": [
    "def get_organised_paths(results_path, seeds):\n",
    "    timestamps = os.listdir(results_path)\n",
    "    data_logger_paths = {s: {} for s in seeds}\n",
    "    \n",
    "    for timestamp in timestamps:\n",
    "        timestamp_experiments = os.listdir(os.path.join(results_path, timestamp))\n",
    "        for exp in timestamp_experiments:\n",
    "            split_name = exp.split(\"_\")\n",
    "            seed = int(split_name[1][1:])\n",
    "            ra = float(split_name[2][2:])\n",
    "            fa = float(split_name[3][2:])\n",
    "            data_logger_paths[seed][(ra, fa)] = os.path.join(results_path, timestamp, exp, str(seed), \"data_logger.csv\")\n",
    "        \n",
    "    return data_logger_paths"
   ]
  },
  {
   "cell_type": "code",
   "execution_count": 28,
   "id": "accomplished-barbados",
   "metadata": {},
   "outputs": [
    {
     "ename": "FileNotFoundError",
     "evalue": "[Errno 2] No such file or directory: ''",
     "output_type": "error",
     "traceback": [
      "\u001b[0;31m---------------------------------------------------------------------------\u001b[0m",
      "\u001b[0;31mFileNotFoundError\u001b[0m                         Traceback (most recent call last)",
      "\u001b[0;32m<ipython-input-28-bb28debb81d6>\u001b[0m in \u001b[0;36m<module>\u001b[0;34m\u001b[0m\n\u001b[0;32m----> 1\u001b[0;31m \u001b[0morganised_paths\u001b[0m \u001b[0;34m=\u001b[0m \u001b[0mget_organised_paths\u001b[0m\u001b[0;34m(\u001b[0m\u001b[0mRESULTS_PATH\u001b[0m\u001b[0;34m,\u001b[0m \u001b[0mSEEDS\u001b[0m\u001b[0;34m)\u001b[0m\u001b[0;34m\u001b[0m\u001b[0;34m\u001b[0m\u001b[0m\n\u001b[0m",
      "\u001b[0;32m<ipython-input-27-50b7d0c5bffa>\u001b[0m in \u001b[0;36mget_organised_paths\u001b[0;34m(results_path, seeds)\u001b[0m\n\u001b[1;32m      1\u001b[0m \u001b[0;32mdef\u001b[0m \u001b[0mget_organised_paths\u001b[0m\u001b[0;34m(\u001b[0m\u001b[0mresults_path\u001b[0m\u001b[0;34m,\u001b[0m \u001b[0mseeds\u001b[0m\u001b[0;34m)\u001b[0m\u001b[0;34m:\u001b[0m\u001b[0;34m\u001b[0m\u001b[0;34m\u001b[0m\u001b[0m\n\u001b[0;32m----> 2\u001b[0;31m     \u001b[0mtimestamps\u001b[0m \u001b[0;34m=\u001b[0m \u001b[0mos\u001b[0m\u001b[0;34m.\u001b[0m\u001b[0mlistdir\u001b[0m\u001b[0;34m(\u001b[0m\u001b[0mresults_path\u001b[0m\u001b[0;34m)\u001b[0m\u001b[0;34m\u001b[0m\u001b[0;34m\u001b[0m\u001b[0m\n\u001b[0m\u001b[1;32m      3\u001b[0m     \u001b[0mdata_logger_paths\u001b[0m \u001b[0;34m=\u001b[0m \u001b[0;34m{\u001b[0m\u001b[0ms\u001b[0m\u001b[0;34m:\u001b[0m \u001b[0;34m{\u001b[0m\u001b[0;34m}\u001b[0m \u001b[0;32mfor\u001b[0m \u001b[0ms\u001b[0m \u001b[0;32min\u001b[0m \u001b[0mseeds\u001b[0m\u001b[0;34m}\u001b[0m\u001b[0;34m\u001b[0m\u001b[0;34m\u001b[0m\u001b[0m\n\u001b[1;32m      4\u001b[0m \u001b[0;34m\u001b[0m\u001b[0m\n\u001b[1;32m      5\u001b[0m     \u001b[0;32mfor\u001b[0m \u001b[0mtimestamp\u001b[0m \u001b[0;32min\u001b[0m \u001b[0mtimestamps\u001b[0m\u001b[0;34m:\u001b[0m\u001b[0;34m\u001b[0m\u001b[0;34m\u001b[0m\u001b[0m\n",
      "\u001b[0;31mFileNotFoundError\u001b[0m: [Errno 2] No such file or directory: ''"
     ]
    }
   ],
   "source": [
    "organised_paths = get_organised_paths(RESULTS_PATH, SEEDS)"
   ]
  },
  {
   "cell_type": "code",
   "execution_count": 29,
   "id": "annoying-victorian",
   "metadata": {},
   "outputs": [],
   "source": [
    "import tempfile\n",
    "\n",
    "def test_get_organised_paths():\n",
    "\n",
    "    with tempfile.TemporaryDirectory() as tmpdirname:\n",
    "        # create dummmy file structure\n",
    "        test_dates = [\"2021-03-31-21-38-00\", \"2021-03-31-21-38-02\"]\n",
    "        test_exp_names = {1: \"exp_s1_ra0.2_fa0.1\", 2: \"exp_s2_ra0.2_fa0.8\"}\n",
    "        for test_date in test_dates:\n",
    "            os.mkdir(os.path.join(tmpdirname, test_date))\n",
    "            for seed, test_exp in test_exp_names.items():\n",
    "                os.mkdir(os.path.join(tmpdirname, test_date, test_exp))\n",
    "                os.mkdir(os.path.join(tmpdirname, test_date, test_exp, str(seed)))\n",
    "                open(os.path.join(tmpdirname, test_date, test_exp, str(seed), \"data_logger.csv\"), 'a').close()\n",
    "\n",
    "        test_data_logger_paths = get_organised_paths(tmpdirname, range(3))\n",
    "\n",
    "    return test_data_logger_paths"
   ]
  },
  {
   "cell_type": "code",
   "execution_count": 30,
   "id": "white-sunrise",
   "metadata": {},
   "outputs": [
    {
     "data": {
      "text/plain": [
       "{0: {},\n",
       " 1: {(0.2,\n",
       "   0.1): '/var/folders/1x/frtldspx7qd6_bnf97dp310w0000gn/T/tmpalj0igx5/2021-03-31-21-38-00/exp_s1_ra0.2_fa0.1/1/data_logger.csv'},\n",
       " 2: {(0.2,\n",
       "   0.8): '/var/folders/1x/frtldspx7qd6_bnf97dp310w0000gn/T/tmpalj0igx5/2021-03-31-21-38-00/exp_s2_ra0.2_fa0.8/2/data_logger.csv'}}"
      ]
     },
     "execution_count": 30,
     "metadata": {},
     "output_type": "execute_result"
    }
   ],
   "source": [
    "test_get_organised_paths()"
   ]
  },
  {
   "cell_type": "code",
   "execution_count": null,
   "id": "sized-synthesis",
   "metadata": {},
   "outputs": [],
   "source": []
  }
 ],
 "metadata": {
  "kernelspec": {
   "display_name": "cata",
   "language": "python",
   "name": "cata"
  },
  "language_info": {
   "codemirror_mode": {
    "name": "ipython",
    "version": 3
   },
   "file_extension": ".py",
   "mimetype": "text/x-python",
   "name": "python",
   "nbconvert_exporter": "python",
   "pygments_lexer": "ipython3",
   "version": "3.8.6"
  }
 },
 "nbformat": 4,
 "nbformat_minor": 5
}
