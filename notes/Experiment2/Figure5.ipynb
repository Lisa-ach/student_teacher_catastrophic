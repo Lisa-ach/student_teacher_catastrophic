{
 "cells": [
  {
   "cell_type": "code",
   "execution_count": 1,
   "id": "concerned-above",
   "metadata": {},
   "outputs": [],
   "source": [
    "import os\n",
    "import pandas as pd\n",
    "import numpy as np\n",
    "import matplotlib.pyplot as plt"
   ]
  },
  {
   "cell_type": "markdown",
   "id": "27c7af78",
   "metadata": {},
   "source": [
    "TODO:\n",
    "Run multiple seeds with multiple values of readout (ra) and feature (fa)\n",
    "\n",
    "Dans le yaml:\n",
    "   feature_rotation:\n",
    "      rotation_magnitude:             0 # TODO here is feature\n",
    "    readout_rotation:\n",
    "      rotation_magnitude:             1.5 # 3.14159   # TODO here is readout\n",
    "\n",
    "\n",
    "0 <-> 0\n",
    "1 <-> 3.14"
   ]
  },
  {
   "cell_type": "code",
   "execution_count": 23,
   "id": "76a1fe23",
   "metadata": {},
   "outputs": [],
   "source": [
    "wanted_path= \"../../cata/run/results/seed_0\""
   ]
  },
  {
   "cell_type": "code",
   "execution_count": 24,
   "id": "separated-pharmaceutical",
   "metadata": {},
   "outputs": [
    {
     "name": "stdout",
     "output_type": "stream",
     "text": [
      "range(0, 2)\n"
     ]
    }
   ],
   "source": [
    "RESULTS_PATH = wanted_path\n",
    "SEEDS = range(2) # to adapt\n",
    "print(SEEDS)"
   ]
  },
  {
   "cell_type": "code",
   "execution_count": 25,
   "id": "continuing-vegetation",
   "metadata": {},
   "outputs": [],
   "source": [
    "# data_logger can be changed into data_logger_network no pb\n",
    "\n",
    "def get_organised_paths(results_path, seeds):\n",
    "    #timestamps = os.listdir(results_path)\n",
    "    \n",
    "    data_logger_paths = {s: {} for s in seeds}\n",
    "    experiments = os.listdir(results_path)\n",
    "    print(experiments)\n",
    "    \n",
    "    #for timestamp in timestamps:\n",
    "    #    timestamp_experiments = os.listdir(os.path.join(results_path, timestamp))\n",
    "    for exp in experiments:\n",
    "        split_name = exp.split(\"_\")\n",
    "        seed = int(split_name[1][1:])\n",
    "        ra = float(split_name[2][2:])\n",
    "        fa = float(split_name[3][2:])\n",
    "        # data_logger_paths[seed][(fa, ra)] = os.path.join(results_path, timestamp, exp, str(seed), \"data_logger.csv\")\n",
    "        #data_logger_paths[seed][(fa, ra)] = os.path.join(results_path, timestamp, exp, \"data_logger_network.csv\")\n",
    "        data_logger_paths[seed][(fa, ra)] = os.path.join(results_path, exp, \"data_logger_network.csv\")\n",
    "        \n",
    "        \n",
    "    return data_logger_paths"
   ]
  },
  {
   "cell_type": "code",
   "execution_count": 26,
   "id": "lightweight-special",
   "metadata": {},
   "outputs": [
    {
     "name": "stdout",
     "output_type": "stream",
     "text": [
      "['single_s0_ra0.1_fa0', 'single_s0_ra0.1_fa0.1', 'single_s1_ra0.1_fa0.2', 'single_s1_ra0.1_fa0.3']\n"
     ]
    }
   ],
   "source": [
    "organised_paths = get_organised_paths(RESULTS_PATH, SEEDS)"
   ]
  },
  {
   "cell_type": "code",
   "execution_count": 27,
   "id": "347fe5dd",
   "metadata": {},
   "outputs": [
    {
     "data": {
      "text/plain": [
       "{0: {(0.0,\n",
       "   0.1): '../../cata/run/results/seed_0/test\\\\single_s0_ra0.1_fa0\\\\data_logger_network.csv',\n",
       "  (0.1,\n",
       "   0.1): '../../cata/run/results/seed_0/test\\\\single_s0_ra0.1_fa0.1\\\\data_logger_network.csv'},\n",
       " 1: {(0.2,\n",
       "   0.1): '../../cata/run/results/seed_0/test\\\\single_s1_ra0.1_fa0.2\\\\data_logger_network.csv',\n",
       "  (0.3,\n",
       "   0.1): '../../cata/run/results/seed_0/test\\\\single_s1_ra0.1_fa0.3\\\\data_logger_network.csv'}}"
      ]
     },
     "execution_count": 27,
     "metadata": {},
     "output_type": "execute_result"
    }
   ],
   "source": [
    "organised_paths"
   ]
  },
  {
   "cell_type": "code",
   "execution_count": 28,
   "id": "novel-occupation",
   "metadata": {},
   "outputs": [],
   "source": [
    "# import tempfile\n",
    "\n",
    "# def test_get_organised_paths(wanted_path):\n",
    "\n",
    "#     # with tempfile.TemporaryDirectory() as tmpdirname:\n",
    "#     # create dummmy file structure\n",
    "#     test_dates = [\"2025-02-10-17-41-15\", \"2025-02-12-06-37-04\"]\n",
    "#     test_exp_names = {1: \"exp_s1_ra0.2_fa0.1\", 2: \"exp_s2_ra0.2_fa0.8\"}\n",
    "#     for test_date in test_dates:\n",
    "#         os.mkdir(os.path.join(wanted_path, test_date))\n",
    "#         for seed, test_exp in test_exp_names.items():\n",
    "#             # print(os.path.join(tmpdirname, test_date, test_exp, str(seed)))\n",
    "#             # os.mkdir(os.path.join(tmpdirname, test_date, test_exp))\n",
    "#             # os.mkdir(os.path.join(tmpdirname, test_date, test_exp, str(seed)))\n",
    "#             # open(os.path.join(tmpdirname, test_date, test_exp, str(seed), \"data_logger.csv\"), 'a').close()\n",
    "#             print(os.path.join(wanted_path, test_date, test_exp, str(seed)))\n",
    "#             os.mkdir(os.path.join(wanted_path, test_date, test_exp))\n",
    "#             os.mkdir(os.path.join(wanted_path, test_date, test_exp, str(seed)))\n",
    "#             open(os.path.join(wanted_path, test_date, test_exp, str(seed), \"data_logger.csv\"), 'a').close()\n",
    "\n",
    "#     test_data_logger_paths = get_organised_paths(wanted_path, range(3))\n",
    "\n",
    "#     return test_data_logger_paths"
   ]
  },
  {
   "cell_type": "code",
   "execution_count": 29,
   "id": "stuffed-cross",
   "metadata": {},
   "outputs": [
    {
     "data": {
      "text/plain": [
       "{(0.0,\n",
       "  0.1): '../../cata/run/results/seed_0/test\\\\single_s0_ra0.1_fa0\\\\data_logger_network.csv',\n",
       " (0.1,\n",
       "  0.1): '../../cata/run/results/seed_0/test\\\\single_s0_ra0.1_fa0.1\\\\data_logger_network.csv'}"
      ]
     },
     "execution_count": 29,
     "metadata": {},
     "output_type": "execute_result"
    }
   ],
   "source": [
    "#test_get_organised_paths(wanted_path)\n",
    "list(organised_paths.values())[0]"
   ]
  },
  {
   "cell_type": "code",
   "execution_count": 35,
   "id": "passive-header",
   "metadata": {},
   "outputs": [],
   "source": [
    "def get_metrics(df_paths, switch_step, final_step, threshold=None, second_task_cutoff=None):\n",
    "    dfs = {k: pd.read_csv(df_path) for k, df_path in df_paths.items()}\n",
    "    if switch_step is None:\n",
    "        assert threshold is not None, \"No switch step given, must give threshold instead.\"\n",
    "        # infer from threshold\n",
    "        # all first teacher errors should be the same, so take arbitrary one\n",
    "        sample_df = dfs[list(dfs.keys())[0]]\n",
    "        sample_df_first_error = np.array(sample_df.log_generalisation_error_0)\n",
    "        switch_step = np.where(sample_df_first_error < threshold)[0][0] + 1\n",
    "        if second_task_cutoff is not None:\n",
    "            final_step = switch_step + second_task_cutoff\n",
    "        else:\n",
    "            final_step = len(sample_df)\n",
    "    switch_errors = {k: df.log_generalisation_error_0[switch_step - 1] for k, df in dfs.items()}\n",
    "    final_errors = {k: df.log_generalisation_error_0[final_step - 1] for k, df in dfs.items()}\n",
    "    switch_errors_1 = {k: df.log_generalisation_error_1[switch_step - 1] for k, df in dfs.items()}\n",
    "    final_errors_1 = {k: df.log_generalisation_error_1[final_step - 1] for k, df in dfs.items()}\n",
    "    forgetting = {k: df.log_generalisation_error_0[final_step - 1] - df.log_generalisation_error_0[switch_step - 1] for k, df in dfs.items()}\n",
    "    forgetting_rate = {k: np.mean([df.log_generalisation_error_0[switch_step - 1 + i + 1] - df.log_generalisation_error_0[switch_step - 1 + i] for i in range(10)]) for k, df in dfs.items()}\n",
    "    max_forgetting = {k: np.amax(df.log_generalisation_error_0[switch_step - 1:final_step]) - df.log_generalisation_error_0[switch_step - 1] for k, df in dfs.items()}\n",
    "\n",
    "    # print(switch_errors)\n",
    "    # for k, df in dfs.items():\n",
    "    #     print(df.log_generalisation_error_1)\n",
    "\n",
    "\n",
    "    # TODO modify below when enough samples\n",
    "    #second_threshold_steps = {k: np.where(df.log_generalisation_error_1 < switch_errors[k])[0][0] for k, df in dfs.items()}\n",
    "    second_threshold_steps = {k: np.where(df.log_generalisation_error_1 < 4)[0][0] for k, df in dfs.items()}\n",
    "    adjusted_forgetting = {k: df.log_generalisation_error_0[second_threshold_steps[k]] - df.log_generalisation_error_0[switch_step - 1] for k, df in dfs.items()}\n",
    "    transfer = {k: df.log_generalisation_error_1[switch_step - 1] - df.log_generalisation_error_1[final_step - 1] for k, df in dfs.items()}\n",
    "    transfer_rate = {k: np.mean([df.log_generalisation_error_1[switch_step - 1 + i] - df.log_generalisation_error_1[switch_step - 1 + i + 1] for i in range(10)]) for k, df in dfs.items()}\n",
    "    max_transfer = {k: df.log_generalisation_error_1[switch_step - 1] - np.amin(df.log_generalisation_error_1[switch_step - 1:final_step]) for k, df in dfs.items()}\n",
    "    return forgetting, forgetting_rate, max_forgetting, adjusted_forgetting, transfer, transfer_rate, max_transfer\n"
   ]
  },
  {
   "cell_type": "code",
   "execution_count": 31,
   "id": "coastal-washer",
   "metadata": {},
   "outputs": [],
   "source": [
    "def get_2d_plot_base(sample_metric):\n",
    "    x, y = np.meshgrid(np.linspace(0, 1, 11), np.linspace(0, 1, 11))\n",
    "    unique_sorted_keys = np.unique([i[0] for i in sorted(list(sample_metric.keys()), key=lambda x: float(x[0]))])\n",
    "    x_overlap_map = {v: i for i, v in enumerate(unique_sorted_keys)}\n",
    "    y_overlap_map = {v: i for i, v in enumerate(np.unique([i[1] for i in sorted(list(sample_metric.keys()), key=lambda x: float(x[1]))]))}\n",
    "    return x_overlap_map, y_overlap_map"
   ]
  },
  {
   "cell_type": "code",
   "execution_count": 32,
   "id": "chicken-nicaragua",
   "metadata": {},
   "outputs": [],
   "source": [
    "def get_z(value_dict):\n",
    "    z = np.zeros((11, 11))\n",
    "    \n",
    "    x_overlap_map, y_overlap_map = get_2d_plot_base(value_dict)\n",
    "\n",
    "    for k, f_value in value_dict.items():\n",
    "        x_val = k[0]\n",
    "        y_val = k[1]\n",
    "        x_index = x_overlap_map[x_val]\n",
    "        y_index = y_overlap_map[y_val]\n",
    "        z[x_index][y_index] = f_value\n",
    "    return z"
   ]
  },
  {
   "cell_type": "code",
   "execution_count": 33,
   "id": "creative-nerve",
   "metadata": {},
   "outputs": [],
   "source": [
    "path_save_figures = \"figures/\"\n",
    "\n",
    "def plot2d(metric, metric_title, cmap, save_name):\n",
    "    fig = plt.figure()\n",
    "    plt.imshow(get_z(metric), origin=\"lower\", extent=[0, 1, 0, 1], cmap=cmap)\n",
    "    plt.xlabel(\"Feature Similarity\")\n",
    "    plt.ylabel(\"Readout Similarity\")\n",
    "    plt.title(metric_title)\n",
    "    plt.colorbar()\n",
    "    fig.show()\n",
    "    fig.savefig(os.path.join(path_save_figures, save_name), dpi=100)"
   ]
  },
  {
   "cell_type": "code",
   "execution_count": 36,
   "id": "allied-venture",
   "metadata": {},
   "outputs": [
    {
     "name": "stdout",
     "output_type": "stream",
     "text": [
      "Seed 0 - Exemple de valeurs pour forgetting:\n",
      "(0.0, 0.1): -0.12801522054901593\n",
      "(0.1, 0.1): -0.12801522054901593\n"
     ]
    },
    {
     "name": "stderr",
     "output_type": "stream",
     "text": [
      "C:\\Users\\manon\\AppData\\Local\\Temp\\ipykernel_74664\\2124042288.py:10: UserWarning: FigureCanvasAgg is non-interactive, and thus cannot be shown\n",
      "  fig.show()\n"
     ]
    },
    {
     "ename": "FileNotFoundError",
     "evalue": "[Errno 2] No such file or directory: 'figures/forgetting_seed_0.pdf'",
     "output_type": "error",
     "traceback": [
      "\u001b[1;31m---------------------------------------------------------------------------\u001b[0m",
      "\u001b[1;31mFileNotFoundError\u001b[0m                         Traceback (most recent call last)",
      "Cell \u001b[1;32mIn[36], line 9\u001b[0m\n\u001b[0;32m      5\u001b[0m \u001b[38;5;28;01mfor\u001b[39;00m key, value \u001b[38;5;129;01min\u001b[39;00m seed_forgetting\u001b[38;5;241m.\u001b[39mitems():\n\u001b[0;32m      6\u001b[0m     \u001b[38;5;28mprint\u001b[39m(\u001b[38;5;124mf\u001b[39m\u001b[38;5;124m\"\u001b[39m\u001b[38;5;132;01m{\u001b[39;00mkey\u001b[38;5;132;01m}\u001b[39;00m\u001b[38;5;124m: \u001b[39m\u001b[38;5;132;01m{\u001b[39;00mvalue\u001b[38;5;132;01m}\u001b[39;00m\u001b[38;5;124m\"\u001b[39m)\n\u001b[1;32m----> 9\u001b[0m \u001b[43mplot2d\u001b[49m\u001b[43m(\u001b[49m\u001b[43mseed_forgetting\u001b[49m\u001b[43m,\u001b[49m\u001b[43m \u001b[49m\u001b[38;5;124;43mf\u001b[39;49m\u001b[38;5;124;43m\"\u001b[39;49m\u001b[38;5;124;43mForgetting: Seed \u001b[39;49m\u001b[38;5;132;43;01m{\u001b[39;49;00m\u001b[43mseed\u001b[49m\u001b[38;5;132;43;01m}\u001b[39;49;00m\u001b[38;5;124;43m\"\u001b[39;49m\u001b[43m,\u001b[49m\u001b[43m \u001b[49m\u001b[38;5;124;43m\"\u001b[39;49m\u001b[38;5;124;43mviridis\u001b[39;49m\u001b[38;5;124;43m\"\u001b[39;49m\u001b[43m,\u001b[49m\u001b[43m \u001b[49m\u001b[38;5;124;43mf\u001b[39;49m\u001b[38;5;124;43m\"\u001b[39;49m\u001b[38;5;124;43mforgetting_seed_\u001b[39;49m\u001b[38;5;132;43;01m{\u001b[39;49;00m\u001b[43mseed\u001b[49m\u001b[38;5;132;43;01m}\u001b[39;49;00m\u001b[38;5;124;43m.pdf\u001b[39;49m\u001b[38;5;124;43m\"\u001b[39;49m\u001b[43m)\u001b[49m\n",
      "Cell \u001b[1;32mIn[33], line 11\u001b[0m, in \u001b[0;36mplot2d\u001b[1;34m(metric, metric_title, cmap, save_name)\u001b[0m\n\u001b[0;32m      9\u001b[0m plt\u001b[38;5;241m.\u001b[39mcolorbar()\n\u001b[0;32m     10\u001b[0m fig\u001b[38;5;241m.\u001b[39mshow()\n\u001b[1;32m---> 11\u001b[0m \u001b[43mfig\u001b[49m\u001b[38;5;241;43m.\u001b[39;49m\u001b[43msavefig\u001b[49m\u001b[43m(\u001b[49m\u001b[43mos\u001b[49m\u001b[38;5;241;43m.\u001b[39;49m\u001b[43mpath\u001b[49m\u001b[38;5;241;43m.\u001b[39;49m\u001b[43mjoin\u001b[49m\u001b[43m(\u001b[49m\u001b[43mpath_save_figures\u001b[49m\u001b[43m,\u001b[49m\u001b[43m \u001b[49m\u001b[43msave_name\u001b[49m\u001b[43m)\u001b[49m\u001b[43m,\u001b[49m\u001b[43m \u001b[49m\u001b[43mdpi\u001b[49m\u001b[38;5;241;43m=\u001b[39;49m\u001b[38;5;241;43m100\u001b[39;49m\u001b[43m)\u001b[49m\n",
      "File \u001b[1;32m~\\anaconda3\\lib\\site-packages\\matplotlib\\figure.py:3395\u001b[0m, in \u001b[0;36mFigure.savefig\u001b[1;34m(self, fname, transparent, **kwargs)\u001b[0m\n\u001b[0;32m   3393\u001b[0m     \u001b[38;5;28;01mfor\u001b[39;00m ax \u001b[38;5;129;01min\u001b[39;00m \u001b[38;5;28mself\u001b[39m\u001b[38;5;241m.\u001b[39maxes:\n\u001b[0;32m   3394\u001b[0m         _recursively_make_axes_transparent(stack, ax)\n\u001b[1;32m-> 3395\u001b[0m \u001b[38;5;28mself\u001b[39m\u001b[38;5;241m.\u001b[39mcanvas\u001b[38;5;241m.\u001b[39mprint_figure(fname, \u001b[38;5;241m*\u001b[39m\u001b[38;5;241m*\u001b[39mkwargs)\n",
      "File \u001b[1;32m~\\anaconda3\\lib\\site-packages\\matplotlib\\backend_bases.py:2204\u001b[0m, in \u001b[0;36mFigureCanvasBase.print_figure\u001b[1;34m(self, filename, dpi, facecolor, edgecolor, orientation, format, bbox_inches, pad_inches, bbox_extra_artists, backend, **kwargs)\u001b[0m\n\u001b[0;32m   2200\u001b[0m \u001b[38;5;28;01mtry\u001b[39;00m:\n\u001b[0;32m   2201\u001b[0m     \u001b[38;5;66;03m# _get_renderer may change the figure dpi (as vector formats\u001b[39;00m\n\u001b[0;32m   2202\u001b[0m     \u001b[38;5;66;03m# force the figure dpi to 72), so we need to set it again here.\u001b[39;00m\n\u001b[0;32m   2203\u001b[0m     \u001b[38;5;28;01mwith\u001b[39;00m cbook\u001b[38;5;241m.\u001b[39m_setattr_cm(\u001b[38;5;28mself\u001b[39m\u001b[38;5;241m.\u001b[39mfigure, dpi\u001b[38;5;241m=\u001b[39mdpi):\n\u001b[1;32m-> 2204\u001b[0m         result \u001b[38;5;241m=\u001b[39m print_method(\n\u001b[0;32m   2205\u001b[0m             filename,\n\u001b[0;32m   2206\u001b[0m             facecolor\u001b[38;5;241m=\u001b[39mfacecolor,\n\u001b[0;32m   2207\u001b[0m             edgecolor\u001b[38;5;241m=\u001b[39medgecolor,\n\u001b[0;32m   2208\u001b[0m             orientation\u001b[38;5;241m=\u001b[39morientation,\n\u001b[0;32m   2209\u001b[0m             bbox_inches_restore\u001b[38;5;241m=\u001b[39m_bbox_inches_restore,\n\u001b[0;32m   2210\u001b[0m             \u001b[38;5;241m*\u001b[39m\u001b[38;5;241m*\u001b[39mkwargs)\n\u001b[0;32m   2211\u001b[0m \u001b[38;5;28;01mfinally\u001b[39;00m:\n\u001b[0;32m   2212\u001b[0m     \u001b[38;5;28;01mif\u001b[39;00m bbox_inches \u001b[38;5;129;01mand\u001b[39;00m restore_bbox:\n",
      "File \u001b[1;32m~\\anaconda3\\lib\\site-packages\\matplotlib\\backend_bases.py:2054\u001b[0m, in \u001b[0;36mFigureCanvasBase._switch_canvas_and_return_print_method.<locals>.<lambda>\u001b[1;34m(*args, **kwargs)\u001b[0m\n\u001b[0;32m   2050\u001b[0m     optional_kws \u001b[38;5;241m=\u001b[39m {  \u001b[38;5;66;03m# Passed by print_figure for other renderers.\u001b[39;00m\n\u001b[0;32m   2051\u001b[0m         \u001b[38;5;124m\"\u001b[39m\u001b[38;5;124mdpi\u001b[39m\u001b[38;5;124m\"\u001b[39m, \u001b[38;5;124m\"\u001b[39m\u001b[38;5;124mfacecolor\u001b[39m\u001b[38;5;124m\"\u001b[39m, \u001b[38;5;124m\"\u001b[39m\u001b[38;5;124medgecolor\u001b[39m\u001b[38;5;124m\"\u001b[39m, \u001b[38;5;124m\"\u001b[39m\u001b[38;5;124morientation\u001b[39m\u001b[38;5;124m\"\u001b[39m,\n\u001b[0;32m   2052\u001b[0m         \u001b[38;5;124m\"\u001b[39m\u001b[38;5;124mbbox_inches_restore\u001b[39m\u001b[38;5;124m\"\u001b[39m}\n\u001b[0;32m   2053\u001b[0m     skip \u001b[38;5;241m=\u001b[39m optional_kws \u001b[38;5;241m-\u001b[39m {\u001b[38;5;241m*\u001b[39minspect\u001b[38;5;241m.\u001b[39msignature(meth)\u001b[38;5;241m.\u001b[39mparameters}\n\u001b[1;32m-> 2054\u001b[0m     print_method \u001b[38;5;241m=\u001b[39m functools\u001b[38;5;241m.\u001b[39mwraps(meth)(\u001b[38;5;28;01mlambda\u001b[39;00m \u001b[38;5;241m*\u001b[39margs, \u001b[38;5;241m*\u001b[39m\u001b[38;5;241m*\u001b[39mkwargs: meth(\n\u001b[0;32m   2055\u001b[0m         \u001b[38;5;241m*\u001b[39margs, \u001b[38;5;241m*\u001b[39m\u001b[38;5;241m*\u001b[39m{k: v \u001b[38;5;28;01mfor\u001b[39;00m k, v \u001b[38;5;129;01min\u001b[39;00m kwargs\u001b[38;5;241m.\u001b[39mitems() \u001b[38;5;28;01mif\u001b[39;00m k \u001b[38;5;129;01mnot\u001b[39;00m \u001b[38;5;129;01min\u001b[39;00m skip}))\n\u001b[0;32m   2056\u001b[0m \u001b[38;5;28;01melse\u001b[39;00m:  \u001b[38;5;66;03m# Let third-parties do as they see fit.\u001b[39;00m\n\u001b[0;32m   2057\u001b[0m     print_method \u001b[38;5;241m=\u001b[39m meth\n",
      "File \u001b[1;32m~\\anaconda3\\lib\\site-packages\\matplotlib\\backends\\backend_pdf.py:2792\u001b[0m, in \u001b[0;36mFigureCanvasPdf.print_pdf\u001b[1;34m(self, filename, bbox_inches_restore, metadata)\u001b[0m\n\u001b[0;32m   2790\u001b[0m     file \u001b[38;5;241m=\u001b[39m filename\u001b[38;5;241m.\u001b[39m_ensure_file()\n\u001b[0;32m   2791\u001b[0m \u001b[38;5;28;01melse\u001b[39;00m:\n\u001b[1;32m-> 2792\u001b[0m     file \u001b[38;5;241m=\u001b[39m \u001b[43mPdfFile\u001b[49m\u001b[43m(\u001b[49m\u001b[43mfilename\u001b[49m\u001b[43m,\u001b[49m\u001b[43m \u001b[49m\u001b[43mmetadata\u001b[49m\u001b[38;5;241;43m=\u001b[39;49m\u001b[43mmetadata\u001b[49m\u001b[43m)\u001b[49m\n\u001b[0;32m   2793\u001b[0m \u001b[38;5;28;01mtry\u001b[39;00m:\n\u001b[0;32m   2794\u001b[0m     file\u001b[38;5;241m.\u001b[39mnewPage(width, height)\n",
      "File \u001b[1;32m~\\anaconda3\\lib\\site-packages\\matplotlib\\backends\\backend_pdf.py:688\u001b[0m, in \u001b[0;36mPdfFile.__init__\u001b[1;34m(self, filename, metadata)\u001b[0m\n\u001b[0;32m    686\u001b[0m \u001b[38;5;28mself\u001b[39m\u001b[38;5;241m.\u001b[39moriginal_file_like \u001b[38;5;241m=\u001b[39m \u001b[38;5;28;01mNone\u001b[39;00m\n\u001b[0;32m    687\u001b[0m \u001b[38;5;28mself\u001b[39m\u001b[38;5;241m.\u001b[39mtell_base \u001b[38;5;241m=\u001b[39m \u001b[38;5;241m0\u001b[39m\n\u001b[1;32m--> 688\u001b[0m fh, opened \u001b[38;5;241m=\u001b[39m \u001b[43mcbook\u001b[49m\u001b[38;5;241;43m.\u001b[39;49m\u001b[43mto_filehandle\u001b[49m\u001b[43m(\u001b[49m\u001b[43mfilename\u001b[49m\u001b[43m,\u001b[49m\u001b[43m \u001b[49m\u001b[38;5;124;43m\"\u001b[39;49m\u001b[38;5;124;43mwb\u001b[39;49m\u001b[38;5;124;43m\"\u001b[39;49m\u001b[43m,\u001b[49m\u001b[43m \u001b[49m\u001b[43mreturn_opened\u001b[49m\u001b[38;5;241;43m=\u001b[39;49m\u001b[38;5;28;43;01mTrue\u001b[39;49;00m\u001b[43m)\u001b[49m\n\u001b[0;32m    689\u001b[0m \u001b[38;5;28;01mif\u001b[39;00m \u001b[38;5;129;01mnot\u001b[39;00m opened:\n\u001b[0;32m    690\u001b[0m     \u001b[38;5;28;01mtry\u001b[39;00m:\n",
      "File \u001b[1;32m~\\anaconda3\\lib\\site-packages\\matplotlib\\cbook.py:483\u001b[0m, in \u001b[0;36mto_filehandle\u001b[1;34m(fname, flag, return_opened, encoding)\u001b[0m\n\u001b[0;32m    481\u001b[0m         fh \u001b[38;5;241m=\u001b[39m bz2\u001b[38;5;241m.\u001b[39mBZ2File(fname, flag)\n\u001b[0;32m    482\u001b[0m     \u001b[38;5;28;01melse\u001b[39;00m:\n\u001b[1;32m--> 483\u001b[0m         fh \u001b[38;5;241m=\u001b[39m \u001b[38;5;28;43mopen\u001b[39;49m\u001b[43m(\u001b[49m\u001b[43mfname\u001b[49m\u001b[43m,\u001b[49m\u001b[43m \u001b[49m\u001b[43mflag\u001b[49m\u001b[43m,\u001b[49m\u001b[43m \u001b[49m\u001b[43mencoding\u001b[49m\u001b[38;5;241;43m=\u001b[39;49m\u001b[43mencoding\u001b[49m\u001b[43m)\u001b[49m\n\u001b[0;32m    484\u001b[0m     opened \u001b[38;5;241m=\u001b[39m \u001b[38;5;28;01mTrue\u001b[39;00m\n\u001b[0;32m    485\u001b[0m \u001b[38;5;28;01melif\u001b[39;00m \u001b[38;5;28mhasattr\u001b[39m(fname, \u001b[38;5;124m'\u001b[39m\u001b[38;5;124mseek\u001b[39m\u001b[38;5;124m'\u001b[39m):\n",
      "\u001b[1;31mFileNotFoundError\u001b[0m: [Errno 2] No such file or directory: 'figures/forgetting_seed_0.pdf'"
     ]
    },
    {
     "data": {
      "image/png": "[encoded data removed]",
      "text/plain": [
       "<Figure size 640x480 with 2 Axes>"
      ]
     },
     "metadata": {},
     "output_type": "display_data"
    }
   ],
   "source": [
    "for seed, seed_dfs in organised_paths.items():\n",
    "    seed_forgetting, seed_forgetting_rate, seed_max_forgetting, seed_adjusted_forgetting, seed_transfer, seed_transfer_rate, seed_max_transfer = get_metrics(df_paths=seed_dfs, switch_step=None, final_step=None, threshold=-4)\n",
    "    \n",
    "    print(f\"Seed {seed} - Exemple de valeurs pour forgetting:\")\n",
    "    for key, value in seed_forgetting.items():\n",
    "        print(f\"{key}: {value}\")\n",
    "\n",
    "    \n",
    "    plot2d(seed_forgetting, f\"Forgetting: Seed {seed}\", \"viridis\", f\"forgetting_seed_{seed}.pdf\")\n",
    "    \n",
    "    \n",
    "    \n",
    "    #plot2d(seed_forgetting_rate, f\"Forgetting Rate: Seed {seed}\", \"viridis\", f\"forgetting_rate_seed_{seed}.pdf\")\n",
    "    #plot2d(seed_max_forgetting, f\"Max Forgetting: Seed {seed}\", \"viridis\", f\"max_forgetting_seed_{seed}.pdf\")\n",
    "    #plot2d(seed_transfer, f\"Transfer: Seed {seed}\", \"plasma\", f\"transfer_seed_{seed}.pdf\")\n",
    "    #plot2d(seed_transfer_rate, f\"Transfer Rate: Seed {seed}\", \"plasma\", f\"transfer_rate_seed_{seed}.pdf\")\n",
    "    #plot2d(seed_max_transfer, f\"Max Transfer: Seed {seed}\", \"plasma\", f\"max_transfer_seed_{seed}.pdf\")"
   ]
  },
  {
   "cell_type": "code",
   "execution_count": null,
   "id": "0ccd366a",
   "metadata": {},
   "outputs": [],
   "source": []
  }
 ],
 "metadata": {
  "kernelspec": {
   "display_name": "Python 3 (ipykernel)",
   "language": "python",
   "name": "python3"
  },
  "language_info": {
   "codemirror_mode": {
    "name": "ipython",
    "version": 3
   },
   "file_extension": ".py",
   "mimetype": "text/x-python",
   "name": "python",
   "nbconvert_exporter": "python",
   "pygments_lexer": "ipython3",
   "version": "3.10.9"
  }
 },
 "nbformat": 4,
 "nbformat_minor": 5
}
