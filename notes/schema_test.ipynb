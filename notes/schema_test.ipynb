{
 "cells": [
  {
   "cell_type": "code",
   "execution_count": 5,
   "metadata": {},
   "outputs": [],
   "source": [
    "import yaml\n",
    "from schema import Schema, And"
   ]
  },
  {
   "cell_type": "code",
   "execution_count": 6,
   "metadata": {},
   "outputs": [],
   "source": [
    "with open('test_config.yaml', 'r') as yaml_file:\n",
    "    params = yaml.load(yaml_file, yaml.SafeLoader)"
   ]
  },
  {
   "cell_type": "code",
   "execution_count": 12,
   "metadata": {},
   "outputs": [
    {
     "data": {
      "text/plain": [
       "{'experiment_name': None,\n",
       " 'use_gpu': True,\n",
       " 'seed': 5,\n",
       " 'resume': None,\n",
       " 'verbose': True,\n",
       " 'verbose_tb': False,\n",
       " 'checkpoint_frequency': 500,\n",
       " 'log_to_df': True,\n",
       " 'task': {'label_task_boundaries': True,\n",
       "  'learner_configuration': 'continual',\n",
       "  'teacher_configuration': 'overlapping',\n",
       "  'num_teachers': 2,\n",
       "  'loss_type': 'regression'},\n",
       " 'training': {'total_training_steps': 100000,\n",
       "  'train_batch_size': 1,\n",
       "  'test_batch_size': 50000,\n",
       "  'learning_rate': 0.5,\n",
       "  'weight_decay': 0.01,\n",
       "  'loss_function': 'mse',\n",
       "  'input_source': 'mnist',\n",
       "  'scale_head_lr': True},\n",
       " 'testing': {'test_frequency': 1,\n",
       "  'overlap_frequency': 100,\n",
       "  'test_all_teachers': True},\n",
       " 'model': {'input_dimension': 784,\n",
       "  'student_hidden_layers': [2],\n",
       "  'teacher_hidden_layers': [1],\n",
       "  'output_dimension': 1,\n",
       "  'student_nonlinearity': 'relu',\n",
       "  'teacher_nonlinearities': ['relu', 'relu'],\n",
       "  'teacher_initialisation_std': 1,\n",
       "  'student_initialisation_std': 0.001,\n",
       "  'initialise_student_outputs': False,\n",
       "  'soft_committee': False,\n",
       "  'teacher_bias_parameters': False,\n",
       "  'student_bias_parameters': False},\n",
       " 'curriculum': {'type': 'custom',\n",
       "  'selection_type': 'cyclical',\n",
       "  'stopping_condition': 'fixed_period',\n",
       "  'fixed_period': 5000,\n",
       "  'loss_threshold': 0.0001,\n",
       "  'custom': [0, 1]},\n",
       " 'mnist': {'data_path': '../../data/',\n",
       "  'pca_input': -1,\n",
       "  'teachers': [[0, 1], [4, 5]],\n",
       "  'rotations': [[0, 0], [90, 90]]},\n",
       " 'trained_mnist': {'save_weight_path': '../saved_model_weights/',\n",
       "  'convergence_criterion': 0.001,\n",
       "  'learning_rate': 0.001,\n",
       "  'output_dimension': 1,\n",
       "  'batch_size': 32},\n",
       " 'teachers': {'overlap_percentages': [0, 0],\n",
       "  'teacher_noise': [0],\n",
       "  'drift_size': 0.01,\n",
       "  'drift_frequency': 1}}"
      ]
     },
     "execution_count": 12,
     "metadata": {},
     "output_type": "execute_result"
    }
   ],
   "source": [
    "params"
   ]
  },
  {
   "cell_type": "code",
   "execution_count": 9,
   "metadata": {},
   "outputs": [],
   "source": [
    "schema = Schema([{\"experiment_name\": And(None, str)}])"
   ]
  },
  {
   "cell_type": "code",
   "execution_count": 39,
   "metadata": {},
   "outputs": [],
   "source": [
    "class TC:\n",
    "    \n",
    "    DUMMY = 5\n",
    "    \n",
    "    def __init__(self):\n",
    "        self.get_dummy()\n",
    "        \n",
    "    def get_dummy(cls):\n",
    "        print(help(cls))\n",
    "        print(cls)"
   ]
  },
  {
   "cell_type": "code",
   "execution_count": 40,
   "metadata": {},
   "outputs": [
    {
     "name": "stdout",
     "output_type": "stream",
     "text": [
      "Help on TC in module __main__ object:\n",
      "\n",
      "class TC(builtins.object)\n",
      " |  Methods defined here:\n",
      " |  \n",
      " |  __init__(self)\n",
      " |      Initialize self.  See help(type(self)) for accurate signature.\n",
      " |  \n",
      " |  get_dummy(cls)\n",
      " |  \n",
      " |  ----------------------------------------------------------------------\n",
      " |  Data descriptors defined here:\n",
      " |  \n",
      " |  __dict__\n",
      " |      dictionary for instance variables (if defined)\n",
      " |  \n",
      " |  __weakref__\n",
      " |      list of weak references to the object (if defined)\n",
      " |  \n",
      " |  ----------------------------------------------------------------------\n",
      " |  Data and other attributes defined here:\n",
      " |  \n",
      " |  DUMMY = 5\n",
      "\n",
      "None\n",
      "<__main__.TC object at 0x112f1f8d0>\n"
     ]
    }
   ],
   "source": [
    "t = TC()"
   ]
  },
  {
   "cell_type": "code",
   "execution_count": null,
   "metadata": {},
   "outputs": [],
   "source": []
  }
 ],
 "metadata": {
  "kernelspec": {
   "display_name": ".cata",
   "language": "python",
   "name": ".cata"
  },
  "language_info": {
   "codemirror_mode": {
    "name": "ipython",
    "version": 3
   },
   "file_extension": ".py",
   "mimetype": "text/x-python",
   "name": "python",
   "nbconvert_exporter": "python",
   "pygments_lexer": "ipython3",
   "version": "3.7.5"
  }
 },
 "nbformat": 4,
 "nbformat_minor": 4
}
