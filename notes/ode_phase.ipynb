{
 "cells": [
  {
   "cell_type": "code",
   "execution_count": 28,
   "metadata": {},
   "outputs": [],
   "source": [
    "import numpy as np\n",
    "from utils.ode import StudentTeacherODE"
   ]
  },
  {
   "cell_type": "markdown",
   "metadata": {},
   "source": [
    "## Simplified Expressions"
   ]
  },
  {
   "cell_type": "markdown",
   "metadata": {},
   "source": [
    "#### Start of Training"
   ]
  },
  {
   "cell_type": "code",
   "execution_count": 87,
   "metadata": {},
   "outputs": [],
   "source": [
    "# sigmoid\n",
    "def du_dt_start(Q, V, h2, v1, alpha):\n",
    "    derivative = np.zeros((2, 2)).astype(float)\n",
    "    for (i, p), _ in np.ndenumerate(derivative):\n",
    "        s = 0\n",
    "        for m, head_unit in enumerate(v1):\n",
    "            nom = 2 * V[p][m] * (1 + Q[i][i])\n",
    "            den = np.pi * np.sqrt(2 * (1 + Q[i][i])) * (1 + Q[i][i])\n",
    "            s += head_unit * (nom / den)\n",
    "        derivative[i][p] = alpha * h2[i] * s\n",
    "    return derivative"
   ]
  },
  {
   "cell_type": "markdown",
   "metadata": {},
   "source": [
    "## Start of Training"
   ]
  },
  {
   "cell_type": "code",
   "execution_count": 97,
   "metadata": {},
   "outputs": [
    {
     "ename": "IndexError",
     "evalue": "index 1 is out of bounds for axis 0 with size 1",
     "output_type": "error",
     "traceback": [
      "\u001b[0;31m---------------------------------------------------------------------------\u001b[0m",
      "\u001b[0;31mIndexError\u001b[0m                                Traceback (most recent call last)",
      "\u001b[0;32m<ipython-input-97-62fa68a1e44d>\u001b[0m in \u001b[0;36m<module>\u001b[0;34m\u001b[0m\n\u001b[1;32m     15\u001b[0m \u001b[0;34m\u001b[0m\u001b[0m\n\u001b[1;32m     16\u001b[0m \u001b[0;32massert\u001b[0m \u001b[0moverlaps\u001b[0m\u001b[0;34m[\u001b[0m\u001b[0;34m\"Q\"\u001b[0m\u001b[0;34m]\u001b[0m\u001b[0;34m[\u001b[0m\u001b[0;36m0\u001b[0m\u001b[0;34m]\u001b[0m\u001b[0;34m[\u001b[0m\u001b[0;36m0\u001b[0m\u001b[0;34m]\u001b[0m \u001b[0;34m-\u001b[0m \u001b[0moverlaps\u001b[0m\u001b[0;34m[\u001b[0m\u001b[0;34m\"R\"\u001b[0m\u001b[0;34m]\u001b[0m\u001b[0;34m[\u001b[0m\u001b[0;36m0\u001b[0m\u001b[0;34m]\u001b[0m\u001b[0;34m[\u001b[0m\u001b[0;36m0\u001b[0m\u001b[0;34m]\u001b[0m \u001b[0;34m*\u001b[0m \u001b[0moverlaps\u001b[0m\u001b[0;34m[\u001b[0m\u001b[0;34m\"R\"\u001b[0m\u001b[0;34m]\u001b[0m\u001b[0;34m[\u001b[0m\u001b[0;36m0\u001b[0m\u001b[0;34m]\u001b[0m\u001b[0;34m[\u001b[0m\u001b[0;36m0\u001b[0m\u001b[0;34m]\u001b[0m \u001b[0;34m>=\u001b[0m \u001b[0;36m0\u001b[0m\u001b[0;34m,\u001b[0m \u001b[0;34m\"Covariance matrix constraint (positive semi-definiteness) violated for C(i,m)\"\u001b[0m\u001b[0;34m\u001b[0m\u001b[0;34m\u001b[0m\u001b[0m\n\u001b[0;32m---> 17\u001b[0;31m \u001b[0;32massert\u001b[0m \u001b[0moverlaps\u001b[0m\u001b[0;34m[\u001b[0m\u001b[0;34m\"Q\"\u001b[0m\u001b[0;34m]\u001b[0m\u001b[0;34m[\u001b[0m\u001b[0;36m0\u001b[0m\u001b[0;34m]\u001b[0m\u001b[0;34m[\u001b[0m\u001b[0;36m0\u001b[0m\u001b[0;34m]\u001b[0m \u001b[0;34m-\u001b[0m \u001b[0moverlaps\u001b[0m\u001b[0;34m[\u001b[0m\u001b[0;34m\"R\"\u001b[0m\u001b[0;34m]\u001b[0m\u001b[0;34m[\u001b[0m\u001b[0;36m0\u001b[0m\u001b[0;34m]\u001b[0m\u001b[0;34m[\u001b[0m\u001b[0;36m1\u001b[0m\u001b[0;34m]\u001b[0m \u001b[0;34m*\u001b[0m \u001b[0moverlaps\u001b[0m\u001b[0;34m[\u001b[0m\u001b[0;34m\"R\"\u001b[0m\u001b[0;34m]\u001b[0m\u001b[0;34m[\u001b[0m\u001b[0;36m1\u001b[0m\u001b[0;34m]\u001b[0m\u001b[0;34m[\u001b[0m\u001b[0;36m0\u001b[0m\u001b[0;34m]\u001b[0m \u001b[0;34m>=\u001b[0m \u001b[0;36m0\u001b[0m\u001b[0;34m,\u001b[0m \u001b[0;34m\"Covariance matrix constraint (positive semi-definiteness) violated for C(i,m)\"\u001b[0m\u001b[0;34m\u001b[0m\u001b[0;34m\u001b[0m\u001b[0m\n\u001b[0m\u001b[1;32m     18\u001b[0m \u001b[0;32massert\u001b[0m \u001b[0moverlaps\u001b[0m\u001b[0;34m[\u001b[0m\u001b[0;34m\"Q\"\u001b[0m\u001b[0;34m]\u001b[0m\u001b[0;34m[\u001b[0m\u001b[0;36m1\u001b[0m\u001b[0;34m]\u001b[0m\u001b[0;34m[\u001b[0m\u001b[0;36m1\u001b[0m\u001b[0;34m]\u001b[0m \u001b[0;34m-\u001b[0m \u001b[0moverlaps\u001b[0m\u001b[0;34m[\u001b[0m\u001b[0;34m\"R\"\u001b[0m\u001b[0;34m]\u001b[0m\u001b[0;34m[\u001b[0m\u001b[0;36m0\u001b[0m\u001b[0;34m]\u001b[0m\u001b[0;34m[\u001b[0m\u001b[0;36m1\u001b[0m\u001b[0;34m]\u001b[0m \u001b[0;34m*\u001b[0m \u001b[0moverlaps\u001b[0m\u001b[0;34m[\u001b[0m\u001b[0;34m\"R\"\u001b[0m\u001b[0;34m]\u001b[0m\u001b[0;34m[\u001b[0m\u001b[0;36m1\u001b[0m\u001b[0;34m]\u001b[0m\u001b[0;34m[\u001b[0m\u001b[0;36m0\u001b[0m\u001b[0;34m]\u001b[0m \u001b[0;34m>=\u001b[0m \u001b[0;36m0\u001b[0m\u001b[0;34m,\u001b[0m \u001b[0;34m\"Covariance matrix constraint (positive semi-definiteness) violated for C(i,m)\"\u001b[0m\u001b[0;34m\u001b[0m\u001b[0;34m\u001b[0m\u001b[0m\n\u001b[1;32m     19\u001b[0m \u001b[0;32massert\u001b[0m \u001b[0moverlaps\u001b[0m\u001b[0;34m[\u001b[0m\u001b[0;34m\"Q\"\u001b[0m\u001b[0;34m]\u001b[0m\u001b[0;34m[\u001b[0m\u001b[0;36m1\u001b[0m\u001b[0;34m]\u001b[0m\u001b[0;34m[\u001b[0m\u001b[0;36m1\u001b[0m\u001b[0;34m]\u001b[0m \u001b[0;34m-\u001b[0m \u001b[0moverlaps\u001b[0m\u001b[0;34m[\u001b[0m\u001b[0;34m\"R\"\u001b[0m\u001b[0;34m]\u001b[0m\u001b[0;34m[\u001b[0m\u001b[0;36m1\u001b[0m\u001b[0;34m]\u001b[0m\u001b[0;34m[\u001b[0m\u001b[0;36m1\u001b[0m\u001b[0;34m]\u001b[0m \u001b[0;34m*\u001b[0m \u001b[0moverlaps\u001b[0m\u001b[0;34m[\u001b[0m\u001b[0;34m\"R\"\u001b[0m\u001b[0;34m]\u001b[0m\u001b[0;34m[\u001b[0m\u001b[0;36m1\u001b[0m\u001b[0;34m]\u001b[0m\u001b[0;34m[\u001b[0m\u001b[0;36m1\u001b[0m\u001b[0;34m]\u001b[0m \u001b[0;34m>=\u001b[0m \u001b[0;36m0\u001b[0m\u001b[0;34m,\u001b[0m \u001b[0;34m\"Covariance matrix constraint (positive semi-definiteness) violated for C(i,m)\"\u001b[0m\u001b[0;34m\u001b[0m\u001b[0;34m\u001b[0m\u001b[0m\n",
      "\u001b[0;31mIndexError\u001b[0m: index 1 is out of bounds for axis 0 with size 1"
     ]
    }
   ],
   "source": [
    "overlaps = {\n",
    "    \"Q\": np.array([[0.1, 0], [0, 0.1]]),\n",
    "    \"R\": np.array([[0, 0]]),\n",
    "    \"U\": np.array([[0, 0]]),\n",
    "    \"T\": np.array([[1]]),\n",
    "    \"S\": np.array([[1]]),\n",
    "    \"V\": np.array([[0.1]]),\n",
    "    \"h1\": np.array([[0.01, 0]]),\n",
    "    \"h2\": np.array([[0.01, 0]])\n",
    "}\n",
    "\n",
    "t1_head = np.array([[0.2, 0.3]])\n",
    "t2_head = np.array([[0.1, 0.4]])\n",
    "\n",
    "\n",
    "assert overlaps[\"Q\"][0][0] - overlaps[\"R\"][0][0] * overlaps[\"R\"][0][0] >= 0, \"Covariance matrix constraint (positive semi-definiteness) violated for C(i,m)\"\n",
    "assert overlaps[\"Q\"][0][0] - overlaps[\"R\"][0][1] * overlaps[\"R\"][1][0] >= 0, \"Covariance matrix constraint (positive semi-definiteness) violated for C(i,m)\"\n",
    "assert overlaps[\"Q\"][1][1] - overlaps[\"R\"][0][1] * overlaps[\"R\"][1][0] >= 0, \"Covariance matrix constraint (positive semi-definiteness) violated for C(i,m)\"\n",
    "assert overlaps[\"Q\"][1][1] - overlaps[\"R\"][1][1] * overlaps[\"R\"][1][1] >= 0, \"Covariance matrix constraint (positive semi-definiteness) violated for C(i,m)\"\n",
    "\n",
    "assert overlaps[\"Q\"][0][0] - overlaps[\"U\"][0][0] * overlaps[\"U\"][0][0] >= 0, \"Covariance matrix constraint (positive semi-definiteness) violated for C(i,p)\"\n",
    "assert overlaps[\"Q\"][0][0] - overlaps[\"U\"][0][1] * overlaps[\"U\"][1][0] >= 0, \"Covariance matrix constraint (positive semi-definiteness) violated for C(i,p)\"\n",
    "assert overlaps[\"Q\"][1][1] - overlaps[\"U\"][0][1] * overlaps[\"U\"][1][0] >= 0, \"Covariance matrix constraint (positive semi-definiteness) violated for C(i,p)\"\n",
    "assert overlaps[\"Q\"][1][1] - overlaps[\"U\"][1][1] * overlaps[\"U\"][1][1] >= 0, \"Covariance matrix constraint (positive semi-definiteness) violated for C(i,p)\""
   ]
  },
  {
   "cell_type": "code",
   "execution_count": 80,
   "metadata": {},
   "outputs": [],
   "source": [
    "stode = StudentTeacherODE(overlaps=overlaps, nonlinearity=\"sigmoid\", learning_rate=0.5, teacher_head1=t1_head, teacher_head2=t2_head)"
   ]
  },
  {
   "cell_type": "code",
   "execution_count": 81,
   "metadata": {},
   "outputs": [],
   "source": [
    "drdt = stode.dr_dt()"
   ]
  },
  {
   "cell_type": "code",
   "execution_count": 82,
   "metadata": {},
   "outputs": [
    {
     "data": {
      "text/plain": [
       "array([[0.00042921, 0.00064381],\n",
       "       [0.        , 0.        ]])"
      ]
     },
     "execution_count": 82,
     "metadata": {},
     "output_type": "execute_result"
    }
   ],
   "source": [
    "drdt"
   ]
  },
  {
   "cell_type": "code",
   "execution_count": 83,
   "metadata": {},
   "outputs": [],
   "source": [
    "dudt = stode.du_dt()"
   ]
  },
  {
   "cell_type": "code",
   "execution_count": 88,
   "metadata": {},
   "outputs": [
    {
     "data": {
      "text/plain": [
       "array([[4.29208963e-05, 6.43813444e-05],\n",
       "       [0.00000000e+00, 0.00000000e+00]])"
      ]
     },
     "execution_count": 88,
     "metadata": {},
     "output_type": "execute_result"
    }
   ],
   "source": [
    "dudt"
   ]
  },
  {
   "cell_type": "code",
   "execution_count": 85,
   "metadata": {},
   "outputs": [],
   "source": [
    "dudt_simp = du_dt_start(overlaps[\"Q\"], overlaps[\"V\"], overlaps[\"h2\"], t1_head, 0.5)"
   ]
  },
  {
   "cell_type": "code",
   "execution_count": 86,
   "metadata": {},
   "outputs": [
    {
     "data": {
      "text/plain": [
       "array([[4.29208963e-05, 6.43813444e-05],\n",
       "       [0.00000000e+00, 0.00000000e+00]])"
      ]
     },
     "execution_count": 86,
     "metadata": {},
     "output_type": "execute_result"
    }
   ],
   "source": [
    "dudt_simp"
   ]
  },
  {
   "cell_type": "markdown",
   "metadata": {},
   "source": [
    "## Switch After Convergence"
   ]
  },
  {
   "cell_type": "code",
   "execution_count": 95,
   "metadata": {},
   "outputs": [],
   "source": [
    "overlaps = {\n",
    "    \"Q\": np.array([[1, 0], [0, 1]]),\n",
    "    \"R\": np.array([[1, 0], [0, 1]]),\n",
    "    \"U\": np.array([[0, 0], [0, 0]]),\n",
    "    \"T\": np.array([[1, 0], [0, 1]]),\n",
    "    \"S\": np.array([[1, 0], [0, 1]]),\n",
    "    \"V\": np.array([[1, 0], [0, 1]]),\n",
    "    \"h1\": np.array([0.01, 0]),\n",
    "    \"h2\": np.array([0, 0])\n",
    "}\n",
    "\n",
    "t1_head = np.array([0.2, 0.3])\n",
    "t2_head = np.array([0.1, 0.4])\n",
    "\n",
    "assert overlaps[\"Q\"][0][0] - overlaps[\"R\"][0][0] * overlaps[\"R\"][0][0] >= 0, \"Covariance matrix constraint (positive semi-definiteness) violated for C(i,m)\"\n",
    "assert overlaps[\"Q\"][0][0] - overlaps[\"R\"][0][1] * overlaps[\"R\"][1][0] >= 0, \"Covariance matrix constraint (positive semi-definiteness) violated for C(i,m)\"\n",
    "assert overlaps[\"Q\"][1][1] - overlaps[\"R\"][0][1] * overlaps[\"R\"][1][0] >= 0, \"Covariance matrix constraint (positive semi-definiteness) violated for C(i,m)\"\n",
    "assert overlaps[\"Q\"][1][1] - overlaps[\"R\"][1][1] * overlaps[\"R\"][1][1] >= 0, \"Covariance matrix constraint (positive semi-definiteness) violated for C(i,m)\"\n",
    "\n",
    "assert overlaps[\"Q\"][0][0] - overlaps[\"U\"][0][0] * overlaps[\"U\"][0][0] >= 0, \"Covariance matrix constraint (positive semi-definiteness) violated for C(i,p)\"\n",
    "assert overlaps[\"Q\"][0][0] - overlaps[\"U\"][0][1] * overlaps[\"U\"][1][0] >= 0, \"Covariance matrix constraint (positive semi-definiteness) violated for C(i,p)\"\n",
    "assert overlaps[\"Q\"][1][1] - overlaps[\"U\"][0][1] * overlaps[\"U\"][1][0] >= 0, \"Covariance matrix constraint (positive semi-definiteness) violated for C(i,p)\"\n",
    "assert overlaps[\"Q\"][1][1] - overlaps[\"U\"][1][1] * overlaps[\"U\"][1][1] >= 0, \"Covariance matrix constraint (positive semi-definiteness) violated for C(i,p)\""
   ]
  },
  {
   "cell_type": "code",
   "execution_count": null,
   "metadata": {},
   "outputs": [],
   "source": []
  },
  {
   "cell_type": "code",
   "execution_count": null,
   "metadata": {},
   "outputs": [],
   "source": []
  }
 ],
 "metadata": {
  "kernelspec": {
   "display_name": ".cata",
   "language": "python",
   "name": ".cata"
  },
  "language_info": {
   "codemirror_mode": {
    "name": "ipython",
    "version": 3
   },
   "file_extension": ".py",
   "mimetype": "text/x-python",
   "name": "python",
   "nbconvert_exporter": "python",
   "pygments_lexer": "ipython3",
   "version": "3.7.5"
  }
 },
 "nbformat": 4,
 "nbformat_minor": 4
}
