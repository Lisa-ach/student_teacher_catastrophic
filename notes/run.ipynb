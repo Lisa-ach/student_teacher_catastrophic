{
 "cells": [
  {
   "cell_type": "code",
   "execution_count": 11,
   "metadata": {},
   "outputs": [],
   "source": [
    "import torch"
   ]
  },
  {
   "cell_type": "code",
   "execution_count": 3,
   "metadata": {},
   "outputs": [],
   "source": [
    "import teacher_student"
   ]
  },
  {
   "cell_type": "code",
   "execution_count": 4,
   "metadata": {},
   "outputs": [],
   "source": [
    "import numpy as np\n",
    "import matplotlib.pyplot as plt"
   ]
  },
  {
   "cell_type": "code",
   "execution_count": 5,
   "metadata": {},
   "outputs": [],
   "source": [
    "input_dim = 500\n",
    "output_dim = 1\n",
    "\n",
    "test_bs = 50\n",
    "\n",
    "teacher_layers = [1]\n",
    "student_layers = [2]\n",
    "\n",
    "curriculum = [(0, 10000)]\n",
    "\n",
    "lr = 0.2\n",
    "\n",
    "nonlinearity = 'relu'"
   ]
  },
  {
   "cell_type": "code",
   "execution_count": 6,
   "metadata": {},
   "outputs": [],
   "source": [
    "ts = teacher_student.StudentTeacher(num_teachers=1, input_dimension=input_dim, output_dimension=output_dim, curriculum=curriculum, learning_rate=lr, teacher_hidden=teacher_layers, student_hidden=student_layers, nonlinearity=nonlinearity, add_teacher_noise=False, soft_committee=False, test_batch_size=test_bs)"
   ]
  },
  {
   "cell_type": "code",
   "execution_count": null,
   "metadata": {},
   "outputs": [],
   "source": []
  },
  {
   "cell_type": "code",
   "execution_count": null,
   "metadata": {},
   "outputs": [],
   "source": []
  },
  {
   "cell_type": "code",
   "execution_count": 10,
   "metadata": {},
   "outputs": [
    {
     "name": "stderr",
     "output_type": "stream",
     "text": [
      "/Users/sebastianlee/Envs/meta/lib/python3.7/site-packages/ipykernel_launcher.py:8: UserWarning: Matplotlib is currently using module://ipykernel.pylab.backend_inline, which is a non-GUI backend, so cannot show the figure.\n",
      "  \n"
     ]
    },
    {
     "data": {
      "image/png": "[encoded data removed]",
      "text/plain": [
       "<Figure size 432x288 with 1 Axes>"
      ]
     },
     "metadata": {
      "needs_background": "light"
     },
     "output_type": "display_data"
    }
   ],
   "source": [
    "log_ = False\n",
    "\n",
    "fig = plt.figure()\n",
    "if log_:\n",
    "    plt.plot(np.log(range(len(losses[0]))), np.log(losses[0]))\n",
    "else:\n",
    "    plt.plot((range(len(losses[1]))), (losses[1]))\n",
    "fig.show()"
   ]
  },
  {
   "cell_type": "code",
   "execution_count": 17,
   "metadata": {},
   "outputs": [
    {
     "data": {
      "text/plain": [
       "array([[ 1.80071902, -0.30910827, -2.38488414, -0.72247322,  0.55506519,\n",
       "        -0.51238486, -1.5662421 , -1.10439205,  0.09899087,  0.90854895],\n",
       "       [-1.48702477,  0.23196733, -0.7703389 , -1.6847878 , -1.72564435,\n",
       "        -0.04010959,  1.55932225,  0.10621151, -0.77450428, -1.46761401],\n",
       "       [-1.06810788, -0.28599997,  0.42155139,  1.36628452, -0.50241618,\n",
       "         0.34859526,  1.21387363, -1.97463001, -0.40937141, -1.67940081],\n",
       "       [-2.76884215,  2.14879066, -0.6419074 , -0.39862003, -0.12948224,\n",
       "        -0.54254145,  0.49167443, -0.10182471,  1.50932676, -0.46898803],\n",
       "       [-0.09239967,  0.91455982, -1.3892715 , -1.0911678 ,  0.23586441,\n",
       "        -0.47975663, -0.34938954, -1.04301946,  1.10107487,  0.76526754],\n",
       "       [-0.96786137,  0.73789413, -0.06083744,  0.58827293, -0.66258471,\n",
       "        -0.70118437,  0.16121239, -1.62661507,  0.09001663, -0.03599903],\n",
       "       [-0.42482112, -1.10839954,  0.82286493, -0.4904409 , -0.5101442 ,\n",
       "        -0.86394906,  0.48174786, -0.38125206, -0.06152256,  0.47196753],\n",
       "       [ 0.58785938, -1.01356081, -0.15881591, -0.07560494,  0.28044506,\n",
       "         0.60495284, -0.56797825, -0.00450941,  2.43584004,  0.04414623],\n",
       "       [-0.91624645,  1.37624613,  0.08815843,  1.17674259, -0.16765158,\n",
       "        -0.52398593, -0.95218148,  0.73404592, -1.06233816, -0.21852453],\n",
       "       [-0.81097966,  1.13742889,  0.53048172, -0.08934575, -0.24314838,\n",
       "        -2.04260945,  1.1374377 , -0.20453653, -1.04989085, -0.25974529]])"
      ]
     },
     "execution_count": 17,
     "metadata": {},
     "output_type": "execute_result"
    }
   ],
   "source": [
    "np.random.randn(10, 10)"
   ]
  },
  {
   "cell_type": "code",
   "execution_count": 38,
   "metadata": {},
   "outputs": [],
   "source": [
    "rand_test = torch.randn(10000)"
   ]
  },
  {
   "cell_type": "code",
   "execution_count": 40,
   "metadata": {},
   "outputs": [
    {
     "name": "stdout",
     "output_type": "stream",
     "text": [
      "-0.00053665467\n",
      "1.0021944\n"
     ]
    }
   ],
   "source": [
    "rand_np = rand_test.numpy()\n",
    "print(np.mean(rand_np))\n",
    "print(np.std(rand_np))"
   ]
  },
  {
   "cell_type": "code",
   "execution_count": 35,
   "metadata": {},
   "outputs": [
    {
     "name": "stderr",
     "output_type": "stream",
     "text": [
      "/Users/sebastianlee/Envs/meta/lib/python3.7/site-packages/ipykernel_launcher.py:3: UserWarning: Matplotlib is currently using module://ipykernel.pylab.backend_inline, which is a non-GUI backend, so cannot show the figure.\n",
      "  This is separate from the ipykernel package so we can avoid doing imports until\n"
     ]
    },
    {
     "data": {
      "image/png": "[encoded data removed]",
      "text/plain": [
       "<Figure size 432x288 with 1 Axes>"
      ]
     },
     "metadata": {
      "needs_background": "light"
     },
     "output_type": "display_data"
    }
   ],
   "source": [
    "fig = plt.figure()\n",
    "plt.hist(rand_np)\n",
    "fig.show()"
   ]
  },
  {
   "cell_type": "code",
   "execution_count": 1,
   "metadata": {},
   "outputs": [],
   "source": [
    "import torch\n",
    "import utils.parameters\n",
    "import yaml\n",
    "import numpy as np\n",
    "import matplotlib.pyplot as plt"
   ]
  },
  {
   "cell_type": "code",
   "execution_count": 2,
   "metadata": {},
   "outputs": [],
   "source": [
    "CONFIG_PATH = \"experiments/base_config.yaml\""
   ]
  },
  {
   "cell_type": "code",
   "execution_count": 3,
   "metadata": {},
   "outputs": [],
   "source": [
    "from models import Teacher"
   ]
  },
  {
   "cell_type": "code",
   "execution_count": 4,
   "metadata": {},
   "outputs": [],
   "source": [
    "# read base-parameters from base-config\n",
    "with open(CONFIG_PATH, 'r') as yaml_file:\n",
    "    params = yaml.load(yaml_file, yaml.SafeLoader)\n",
    "\n",
    "# create object in which to store experiment parameters\n",
    "student_teacher_parameters = utils.parameters.StudentTeacherParameters(params)"
   ]
  },
  {
   "cell_type": "code",
   "execution_count": null,
   "metadata": {},
   "outputs": [],
   "source": []
  },
  {
   "cell_type": "code",
   "execution_count": 36,
   "metadata": {},
   "outputs": [],
   "source": [
    "def get_output_range(repeats, nl, plot=True, trim_zeros=False):\n",
    "    student_teacher_parameters._config[\"model\"][\"nonlinearity\"] = nl\n",
    "    sample_teacher = Teacher(student_teacher_parameters)\n",
    "    sample_teacher.freeze_weights()\n",
    "    outputs = []\n",
    "#     return sample_teacher(torch.randn(5000, 500))\n",
    "    for r in range(repeats):\n",
    "        x = torch.randn(500)\n",
    "        teacher_output = sample_teacher(x)\n",
    "        outputs.append(float(teacher_output))\n",
    "    if plot:\n",
    "        fig = plt.figure()\n",
    "        if trim_zeros:\n",
    "            plt.hist([o for o in outputs if o != 0], bins=50)\n",
    "        else:\n",
    "            plt.hist(outputs, bins=50)\n",
    "        fig.show()\n",
    "    print(min(outputs), max(outputs), np.std(outputs), outputs.count(0))\n",
    "    return outputs"
   ]
  },
  {
   "cell_type": "code",
   "execution_count": 38,
   "metadata": {},
   "outputs": [
    {
     "name": "stderr",
     "output_type": "stream",
     "text": [
      "/Users/sebastianlee/Envs/meta/lib/python3.7/site-packages/ipykernel_launcher.py:17: UserWarning: Matplotlib is currently using module://ipykernel.pylab.backend_inline, which is a non-GUI backend, so cannot show the figure.\n"
     ]
    },
    {
     "name": "stdout",
     "output_type": "stream",
     "text": [
      "0.015033246017992496 0.5673972964286804 0.12186552560672052 0\n"
     ]
    },
    {
     "data": {
      "image/png": "[encoded data removed]",
      "text/plain": [
       "<Figure size 432x288 with 1 Axes>"
      ]
     },
     "metadata": {
      "needs_background": "light"
     },
     "output_type": "display_data"
    }
   ],
   "source": [
    "outs = get_output_range(5000, \"sigmoid\")"
   ]
  },
  {
   "cell_type": "code",
   "execution_count": 32,
   "metadata": {},
   "outputs": [
    {
     "data": {
      "text/plain": [
       "2.610724687576294"
      ]
     },
     "execution_count": 32,
     "metadata": {},
     "output_type": "execute_result"
    }
   ],
   "source": [
    "float(max(outs))"
   ]
  },
  {
   "cell_type": "code",
   "execution_count": null,
   "metadata": {},
   "outputs": [],
   "source": []
  },
  {
   "cell_type": "code",
   "execution_count": null,
   "metadata": {},
   "outputs": [],
   "source": []
  }
 ],
 "metadata": {
  "kernelspec": {
   "display_name": ".cata",
   "language": "python",
   "name": ".cata"
  },
  "language_info": {
   "codemirror_mode": {
    "name": "ipython",
    "version": 3
   },
   "file_extension": ".py",
   "mimetype": "text/x-python",
   "name": "python",
   "nbconvert_exporter": "python",
   "pygments_lexer": "ipython3",
   "version": "3.7.0"
  }
 },
 "nbformat": 4,
 "nbformat_minor": 4
}
