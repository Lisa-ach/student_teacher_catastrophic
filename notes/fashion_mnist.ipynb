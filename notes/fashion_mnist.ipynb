{
 "cells": [
  {
   "cell_type": "code",
   "execution_count": 2,
   "id": "flying-allocation",
   "metadata": {},
   "outputs": [],
   "source": [
    "import torch\n",
    "import torchvision\n",
    "import torch.nn as nn\n",
    "import matplotlib.pyplot as plt\n",
    "import torch.nn.functional as F\n",
    "import numpy as np\n",
    "import copy"
   ]
  },
  {
   "cell_type": "markdown",
   "id": "designed-welcome",
   "metadata": {},
   "source": [
    "## Download Data"
   ]
  },
  {
   "cell_type": "code",
   "execution_count": 3,
   "id": "impossible-monthly",
   "metadata": {},
   "outputs": [],
   "source": [
    "all_transforms = torchvision.transforms.Compose([\n",
    "        torchvision.transforms.Resize(32),\n",
    "        torchvision.transforms.ToTensor()\n",
    "    ])\n",
    "\n",
    "fashion_mnist_train = torchvision.datasets.FashionMNIST(root=\"fmnist/\", download=False, transform=all_transforms)\n",
    "fashion_mnist_test = torchvision.datasets.FashionMNIST(root=\"fmnist/\", download=False, transform=all_transforms, train=False)"
   ]
  },
  {
   "cell_type": "markdown",
   "id": "overall-majority",
   "metadata": {},
   "source": [
    "## Construct Splits"
   ]
  },
  {
   "cell_type": "code",
   "execution_count": 4,
   "id": "placed-fitness",
   "metadata": {},
   "outputs": [
    {
     "name": "stderr",
     "output_type": "stream",
     "text": [
      "/Users/sebastianlee/envs/cata/lib/python3.8/site-packages/torchvision/datasets/mnist.py:45: UserWarning: train_labels has been renamed targets\n",
      "  warnings.warn(\"train_labels has been renamed targets\")\n"
     ]
    }
   ],
   "source": [
    "fashion_mnist_train_splits = [torch.utils.data.Subset(fashion_mnist_train, torch.where(fashion_mnist_train.train_labels == i)[0]) for i in range(10)]\n",
    "fashion_mnist_test_splits = [torch.utils.data.Subset(fashion_mnist_test, torch.where(fashion_mnist_test.train_labels == i)[0]) for i in range(10)]"
   ]
  },
  {
   "cell_type": "code",
   "execution_count": 17,
   "id": "familiar-transsexual",
   "metadata": {},
   "outputs": [],
   "source": [
    "# fashion_mnist_train_split_dataloaders = [torch.utils.data.DataLoader(fashion_mnist_split, batch_size=1, shuffle=True) for fashion_mnist_split in fashion_mnist_train_splits]\n",
    "# fashion_mnist_test_split_dataloaders = [torch.utils.data.DataLoader(fashion_mnist_split, batch_size=1, shuffle=True) for fashion_mnist_split in fashion_mnist_test_splits]"
   ]
  },
  {
   "cell_type": "markdown",
   "id": "naked-immune",
   "metadata": {},
   "source": [
    "## Dataset Interpolation"
   ]
  },
  {
   "cell_type": "code",
   "execution_count": 5,
   "id": "yellow-impression",
   "metadata": {},
   "outputs": [],
   "source": [
    "def _get_dataset_mix(first_binary_classification_dataset, second_binary_classification_dataset, alpha: float):\n",
    "    \"\"\"OLD: Mixing on probability of sampling\"\"\"\n",
    "    random_indices_subset_1 = torch.bernoulli(alpha * torch.ones(len(first_binary_classification_dataset)))\n",
    "    random_indices_subset_2 = torch.bernoulli((1 - alpha) * torch.ones(len(second_binary_classification_dataset)))\n",
    "    subset_1 = torch.utils.data.Subset(first_binary_classification_dataset, torch.where(random_indices_subset_1)[0])\n",
    "    subset_2 = torch.utils.data.Subset(second_binary_classification_dataset, torch.where(random_indices_subset_2)[0])\n",
    "    concatenated_dataset = torch.utils.data.ConcatDataset([subset_1, subset_2])\n",
    "    return concatenated_dataset"
   ]
  },
  {
   "cell_type": "code",
   "execution_count": 11,
   "id": "second-position",
   "metadata": {},
   "outputs": [],
   "source": [
    "dataset_05 = torch.utils.data.ConcatDataset([fashion_mnist_train_splits[0], fashion_mnist_train_splits[5]])\n",
    "dataset_27 = torch.utils.data.ConcatDataset([fashion_mnist_train_splits[2], fashion_mnist_train_splits[7]])\n",
    "\n",
    "dataset_05_test = torch.utils.data.ConcatDataset([fashion_mnist_test_splits[0], fashion_mnist_test_splits[5]])\n",
    "dataset_27_test = torch.utils.data.ConcatDataset([fashion_mnist_test_splits[2], fashion_mnist_test_splits[7]])\n",
    "\n",
    "dataloader_05 = torch.utils.data.DataLoader(dataset_05, batch_size=1, shuffle=True)\n",
    "dataloader_05_test = torch.utils.data.DataLoader(dataset_05_test, batch_size=1, shuffle=True)\n",
    "\n",
    "dataloader_27 = torch.utils.data.DataLoader(dataset_27, batch_size=1, shuffle=True)\n",
    "dataloader_27_test = torch.utils.data.DataLoader(dataset_27_test, batch_size=1, shuffle=True)\n",
    "\n",
    "target_mapping = {0: torch.Tensor([-1.]), 5: torch.Tensor([1.]), 2: torch.Tensor([-1.]),7: torch.Tensor([1.])}\n",
    "label_mapping = {0: -1, 5: 1, 2: -1, 7: 1}"
   ]
  },
  {
   "cell_type": "markdown",
   "id": "harmful-chancellor",
   "metadata": {},
   "source": [
    "## Define Network"
   ]
  },
  {
   "cell_type": "code",
   "execution_count": 7,
   "id": "liked-exploration",
   "metadata": {},
   "outputs": [],
   "source": [
    "input_dim = 32 * 32\n",
    "\n",
    "class Network(nn.Module):\n",
    "    \n",
    "    def __init__(self):\n",
    "        \n",
    "        super().__init__()\n",
    "        \n",
    "        self._layer1 = nn.Linear(input_dim, 8)\n",
    "        \n",
    "        self._layer2a = nn.Linear(8, 1)\n",
    "        self._layer2b = nn.Linear(8, 1)\n",
    "        \n",
    "        self._task = 0\n",
    "        \n",
    "    def switch(self, task_index):\n",
    "        self._task = task_index\n",
    "        \n",
    "    def forward(self, x):\n",
    "        \n",
    "        x = x.reshape(x.shape[0], -1)\n",
    "        \n",
    "        x = F.relu(self._layer1(x))\n",
    "        \n",
    "        if self._task == 0:\n",
    "            y = self._layer2a(x)\n",
    "        elif self._task == 1:\n",
    "            y = self._layer2b(x)\n",
    "        \n",
    "        return y"
   ]
  },
  {
   "cell_type": "markdown",
   "id": "suspected-timing",
   "metadata": {},
   "source": [
    "## Training Loop"
   ]
  },
  {
   "cell_type": "code",
   "execution_count": 8,
   "id": "mediterranean-words",
   "metadata": {},
   "outputs": [],
   "source": [
    "def train(dataloader_1, dataloader_2, alpha, network, epochs, lr, target_mapping, verbose=False):\n",
    "    \n",
    "    loss_function = nn.MSELoss()\n",
    "    optimiser = torch.optim.SGD(params=network.parameters(), lr=lr)\n",
    "    \n",
    "    losses = []\n",
    "    \n",
    "    for e in range(epochs):\n",
    "        \n",
    "        epoch_loss = []\n",
    "        \n",
    "        for (x_1, y_1), (x_2, y_2) in zip(iter(dataloader_1), iter(dataloader_2)):\n",
    "            \n",
    "            mixed_input = alpha * x_1 + (1 - alpha) * x_2\n",
    "            \n",
    "            mapped_y_1 = target_mapping[y_1.item()]\n",
    "            mapped_y_2 = target_mapping[y_2.item()]\n",
    "            \n",
    "            mixed_label = torch.Tensor([np.sign(alpha * mapped_y_1 + (1 - alpha) * mapped_y_2)])\n",
    "            \n",
    "            prediction = network(mixed_input)\n",
    "            loss = loss_function(prediction.flatten(), mixed_label)\n",
    "            optimiser.zero_grad()\n",
    "            loss.backward()\n",
    "            optimiser.step()\n",
    "                    \n",
    "            epoch_loss.append(loss.item())\n",
    "        \n",
    "        if verbose:\n",
    "            print(f\"Epoch {e + 1}/{epochs} loss: {np.mean(epoch_loss)}\")\n",
    "        losses.append(np.mean(epoch_loss))\n",
    "            \n",
    "    return losses, network"
   ]
  },
  {
   "cell_type": "markdown",
   "id": "yellow-treatment",
   "metadata": {},
   "source": [
    "## Test Loop"
   ]
  },
  {
   "cell_type": "code",
   "execution_count": 9,
   "id": "fancy-sarah",
   "metadata": {},
   "outputs": [],
   "source": [
    "def test(dataloader_1, dataloader_2, alpha, network, target_mapping):\n",
    "    \n",
    "    loss_function = nn.MSELoss()\n",
    "    \n",
    "    test_loss = []\n",
    "    correct_instances = []\n",
    "    \n",
    "    with torch.no_grad():\n",
    "\n",
    "        for (x_1, y_1), (x_2, y_2) in zip(iter(dataloader_1), iter(dataloader_2)):\n",
    "\n",
    "            mixed_input = alpha * x_1 + (1 - alpha) * x_2\n",
    "\n",
    "            mapped_y_1 = target_mapping[y_1.item()]\n",
    "            mapped_y_2 = target_mapping[y_2.item()]\n",
    "\n",
    "            mixed_label = torch.Tensor([np.sign(alpha * mapped_y_1 + (1 - alpha) * mapped_y_2)])\n",
    "\n",
    "            prediction = network(mixed_input)\n",
    "            loss = loss_function(prediction.flatten(), mixed_label)\n",
    "            correct = (torch.sign(prediction) == mixed_label).item()\n",
    "\n",
    "            test_loss.append(loss.item())\n",
    "            correct_instances.append(correct)\n",
    "\n",
    "    return np.mean(test_loss), sum(correct_instances) / len(correct_instances)"
   ]
  },
  {
   "cell_type": "markdown",
   "id": "duplicate-litigation",
   "metadata": {},
   "source": [
    "## Task 1 Training"
   ]
  },
  {
   "cell_type": "code",
   "execution_count": 12,
   "id": "korean-theme",
   "metadata": {},
   "outputs": [],
   "source": [
    "losses, task_1_trained_network = train(dataloader_05, dataloader_27, 1, Network(), 100, 0.01, target_mapping)"
   ]
  },
  {
   "cell_type": "code",
   "execution_count": 22,
   "id": "framed-ability",
   "metadata": {},
   "outputs": [],
   "source": [
    "test_loss, test_accuracy = test(dataloader_05_test, dataloader_27_test, 1, task_1_trained_network, target_mapping)"
   ]
  },
  {
   "cell_type": "code",
   "execution_count": 23,
   "id": "incident-rouge",
   "metadata": {},
   "outputs": [
    {
     "data": {
      "text/plain": [
       "0.997"
      ]
     },
     "execution_count": 23,
     "metadata": {},
     "output_type": "execute_result"
    }
   ],
   "source": [
    "test_accuracy"
   ]
  },
  {
   "cell_type": "code",
   "execution_count": 21,
   "id": "distant-homework",
   "metadata": {},
   "outputs": [],
   "source": [
    "task_1_trained_network.switch(0)"
   ]
  },
  {
   "cell_type": "markdown",
   "id": "loose-circulation",
   "metadata": {},
   "source": [
    "## Task 2"
   ]
  },
  {
   "cell_type": "code",
   "execution_count": 21,
   "id": "signal-actor",
   "metadata": {},
   "outputs": [],
   "source": [
    "test_loss, test_accuracy = test(dataloader_01_test, dataloader_78_test, 1, task_1_trained_network, target_mapping)"
   ]
  },
  {
   "cell_type": "code",
   "execution_count": 22,
   "id": "overall-anchor",
   "metadata": {},
   "outputs": [
    {
     "data": {
      "text/plain": [
       "0.9865"
      ]
     },
     "execution_count": 22,
     "metadata": {},
     "output_type": "execute_result"
    }
   ],
   "source": [
    "test_accuracy"
   ]
  },
  {
   "cell_type": "code",
   "execution_count": 23,
   "id": "skilled-alfred",
   "metadata": {},
   "outputs": [],
   "source": [
    "task_1_trained_network.switch(1)"
   ]
  },
  {
   "cell_type": "code",
   "execution_count": 24,
   "id": "greek-trouble",
   "metadata": {},
   "outputs": [],
   "source": [
    "losses, task_2_trained_network = train(dataloader_01, dataloader_78, 0, task_1_trained_network, 100, 0.01, target_mapping)"
   ]
  },
  {
   "cell_type": "code",
   "execution_count": 32,
   "id": "presidential-romance",
   "metadata": {},
   "outputs": [],
   "source": [
    "test_loss2, test_accuracy2 = test(dataloader_01_test, dataloader_78_test, 0, task_2_trained_network, target_mapping)"
   ]
  },
  {
   "cell_type": "code",
   "execution_count": 33,
   "id": "metric-bidding",
   "metadata": {},
   "outputs": [
    {
     "data": {
      "text/plain": [
       "0.941"
      ]
     },
     "execution_count": 33,
     "metadata": {},
     "output_type": "execute_result"
    }
   ],
   "source": [
    "test_accuracy2"
   ]
  },
  {
   "cell_type": "code",
   "execution_count": 31,
   "id": "structural-brush",
   "metadata": {},
   "outputs": [],
   "source": [
    "task_2_trained_network.switch(0)"
   ]
  },
  {
   "cell_type": "code",
   "execution_count": 28,
   "id": "opened-network",
   "metadata": {},
   "outputs": [],
   "source": [
    "test_loss21, test_accuracy21 = test(dataloader_01_test, dataloader_78_test, 1, task_2_trained_network, target_mapping)"
   ]
  },
  {
   "cell_type": "code",
   "execution_count": 29,
   "id": "under-vancouver",
   "metadata": {},
   "outputs": [
    {
     "data": {
      "text/plain": [
       "0.5005"
      ]
     },
     "execution_count": 29,
     "metadata": {},
     "output_type": "execute_result"
    }
   ],
   "source": [
    "test_accuracy21"
   ]
  },
  {
   "cell_type": "code",
   "execution_count": 18,
   "id": "genuine-example",
   "metadata": {},
   "outputs": [
    {
     "name": "stdout",
     "output_type": "stream",
     "text": [
      "0.0\n",
      "Task 1 Loss: 0.07885847743998485\n",
      "Task 2 Loss: 0.00023981185066644704\n",
      "Task 1 Accuracy: 0.997\n",
      "Task 2 Accuracy: 1.0\n",
      "0.1111111111111111\n",
      "Task 1 Loss: 0.7451113684167804\n",
      "Task 2 Loss: 0.012857187266091962\n",
      "Task 1 Accuracy: 0.89\n",
      "Task 2 Accuracy: 1.0\n",
      "0.2222222222222222\n",
      "Task 1 Loss: 1.9058104510310914\n",
      "Task 2 Loss: 0.016117443286039947\n",
      "Task 1 Accuracy: 0.802\n",
      "Task 2 Accuracy: 1.0\n",
      "0.3333333333333333\n",
      "Task 1 Loss: 3.312359592335128\n",
      "Task 2 Loss: 0.04780779584683504\n",
      "Task 1 Accuracy: 0.7495\n",
      "Task 2 Accuracy: 0.9995\n",
      "0.4444444444444444\n",
      "Task 1 Loss: 1.413341541058001\n",
      "Task 2 Loss: 0.06967027494029009\n",
      "Task 1 Accuracy: 0.501\n",
      "Task 2 Accuracy: 0.994\n",
      "0.5555555555555556\n",
      "Task 1 Loss: 0.7904373714240752\n",
      "Task 2 Loss: 0.09697472036846987\n",
      "Task 1 Accuracy: 0.997\n",
      "Task 2 Accuracy: 0.9835\n",
      "0.6666666666666666\n",
      "Task 1 Loss: 0.4074922046420545\n",
      "Task 2 Loss: 0.08241431937118741\n",
      "Task 1 Accuracy: 0.9925\n",
      "Task 2 Accuracy: 0.996\n",
      "0.7777777777777777\n",
      "Task 1 Loss: 0.3515555202790255\n",
      "Task 2 Loss: 0.022231863671125788\n",
      "Task 1 Accuracy: 0.9625\n",
      "Task 2 Accuracy: 0.9955\n",
      "0.8888888888888888\n",
      "Task 1 Loss: 0.14288736237696487\n",
      "Task 2 Loss: 0.009432176902208923\n",
      "Task 1 Accuracy: 0.994\n",
      "Task 2 Accuracy: 0.998\n",
      "1.0\n",
      "Task 1 Loss: 0.015398137966548524\n",
      "Task 2 Loss: 0.012064459074815032\n",
      "Task 1 Accuracy: 0.9975\n",
      "Task 2 Accuracy: 0.9975\n"
     ]
    }
   ],
   "source": [
    "task_1_accuracies = {}\n",
    "task_2_accuracies = {}\n",
    "\n",
    "task_1_losses = {}\n",
    "task_2_losses = {}\n",
    "\n",
    "for alpha in np.linspace(0, 1, 10):\n",
    "    \n",
    "    print(alpha)\n",
    "    \n",
    "    task_1_trained_network_copy = copy.deepcopy(task_1_trained_network)\n",
    "    task_1_trained_network_copy.switch(1)\n",
    "    \n",
    "    losses, task_2_trained_network = train(dataloader_05, dataloader_27, alpha, task_1_trained_network_copy, 50, 0.01, target_mapping)\n",
    "    task_2_loss, task_2_accuracy = test(dataloader_05_test, dataloader_27_test, alpha, task_2_trained_network, target_mapping)\n",
    "    \n",
    "    task_2_trained_network.switch(0)\n",
    "    task_1_loss, task_1_accuracy = test(dataloader_05_test, dataloader_27_test, 1, task_2_trained_network, target_mapping)\n",
    "    \n",
    "    task_2_accuracies[alpha] = task_2_accuracy\n",
    "    task_1_accuracies[alpha] = task_1_accuracy\n",
    "    \n",
    "    task_1_losses[alpha] = task_1_loss\n",
    "    task_2_losses[alpha] = task_2_loss\n",
    "    \n",
    "    print(f\"Task 1 Loss: {task_1_loss}\")\n",
    "    print(f\"Task 2 Loss: {task_2_loss}\")\n",
    "    print(f\"Task 1 Accuracy: {task_1_accuracy}\")\n",
    "    print(f\"Task 2 Accuracy: {task_2_accuracy}\")"
   ]
  },
  {
   "cell_type": "code",
   "execution_count": 48,
   "id": "finite-benchmark",
   "metadata": {},
   "outputs": [
    {
     "data": {
      "text/plain": [
       "{0.0: 0.5,\n",
       " 0.05263157894736842: 0.5115,\n",
       " 0.10526315789473684: 0.5055,\n",
       " 0.15789473684210525: 0.507,\n",
       " 0.21052631578947367: 0.5075,\n",
       " 0.2631578947368421: 0.5095,\n",
       " 0.3157894736842105: 0.518,\n",
       " 0.3684210526315789: 0.5075,\n",
       " 0.42105263157894735: 0.5225,\n",
       " 0.47368421052631576: 0.522,\n",
       " 0.5263157894736842: 0.982,\n",
       " 0.5789473684210527: 0.988,\n",
       " 0.631578947368421: 0.988,\n",
       " 0.6842105263157894: 0.9925,\n",
       " 0.7368421052631579: 0.9825,\n",
       " 0.7894736842105263: 0.9915,\n",
       " 0.8421052631578947: 0.9895,\n",
       " 0.894736842105263: 0.992,\n",
       " 0.9473684210526315: 0.985,\n",
       " 1.0: 0.986}"
      ]
     },
     "execution_count": 48,
     "metadata": {},
     "output_type": "execute_result"
    }
   ],
   "source": [
    "task_1_accuracies"
   ]
  },
  {
   "cell_type": "code",
   "execution_count": 49,
   "id": "sixth-hindu",
   "metadata": {},
   "outputs": [
    {
     "data": {
      "text/plain": [
       "{0.0: 0.998,\n",
       " 0.05263157894736842: 0.9975,\n",
       " 0.10526315789473684: 0.996,\n",
       " 0.15789473684210525: 0.9975,\n",
       " 0.21052631578947367: 0.9955,\n",
       " 0.2631578947368421: 0.9955,\n",
       " 0.3157894736842105: 0.995,\n",
       " 0.3684210526315789: 0.9955,\n",
       " 0.42105263157894735: 0.9945,\n",
       " 0.47368421052631576: 0.9935,\n",
       " 0.5263157894736842: 0.981,\n",
       " 0.5789473684210527: 0.987,\n",
       " 0.631578947368421: 0.9905,\n",
       " 0.6842105263157894: 0.9895,\n",
       " 0.7368421052631579: 0.98,\n",
       " 0.7894736842105263: 0.9905,\n",
       " 0.8421052631578947: 0.9875,\n",
       " 0.894736842105263: 0.9925,\n",
       " 0.9473684210526315: 0.984,\n",
       " 1.0: 0.986}"
      ]
     },
     "execution_count": 49,
     "metadata": {},
     "output_type": "execute_result"
    }
   ],
   "source": [
    "task_2_accuracies"
   ]
  },
  {
   "cell_type": "code",
   "execution_count": 127,
   "id": "upper-relief",
   "metadata": {},
   "outputs": [
    {
     "data": {
      "text/plain": [
       "<matplotlib.image.AxesImage at 0x1243cb340>"
      ]
     },
     "execution_count": 127,
     "metadata": {},
     "output_type": "execute_result"
    },
    {
     "data": {
      "image/png": "[encoded data removed]",
      "text/plain": [
       "<Figure size 432x288 with 1 Axes>"
      ]
     },
     "metadata": {
      "needs_background": "light"
     },
     "output_type": "display_data"
    }
   ],
   "source": [
    "plt.imshow(next(di)[0].numpy().squeeze())"
   ]
  },
  {
   "cell_type": "code",
   "execution_count": 131,
   "id": "white-suffering",
   "metadata": {},
   "outputs": [
    {
     "data": {
      "text/plain": [
       "tensor(264.)"
      ]
     },
     "execution_count": 131,
     "metadata": {},
     "output_type": "execute_result"
    }
   ],
   "source": [
    "sum(torch.bernoulli(0.5 * torch.ones(500)))"
   ]
  },
  {
   "cell_type": "code",
   "execution_count": 38,
   "id": "imperial-deadline",
   "metadata": {},
   "outputs": [
    {
     "name": "stderr",
     "output_type": "stream",
     "text": [
      "<ipython-input-38-4bb7bd26e3d6>:9: UserWarning: Matplotlib is currently using module://ipykernel.pylab.backend_inline, which is a non-GUI backend, so cannot show the figure.\n",
      "  fig.show()\n"
     ]
    },
    {
     "data": {
      "image/png": "[encoded data removed]",
      "text/plain": [
       "<Figure size 432x288 with 1 Axes>"
      ]
     },
     "metadata": {
      "needs_background": "light"
     },
     "output_type": "display_data"
    }
   ],
   "source": [
    "fig = plt.figure()\n",
    "plt.scatter(task_1_accuracies.keys(), task_1_accuracies.values(), label=\"task 1 accuracy; post-forgetting\")\n",
    "plt.scatter(task_2_accuracies.keys(), task_2_accuracies.values(), label=\"task 2 accuracy\")\n",
    "plt.plot([0, 1], [0.997, 0.997], linestyle=\"dashed\", label=\"task 1 accuracy; pre-forgetting\")\n",
    "plt.legend()\n",
    "plt.xlabel(\"similarity\")\n",
    "plt.ylabel(\"accuracy\")\n",
    "plt.ylim((0.2, 1.05))\n",
    "fig.show()\n",
    "fig.savefig(\"ramamesh_replica.pdf\", dpi=50)"
   ]
  },
  {
   "cell_type": "code",
   "execution_count": null,
   "id": "relative-petite",
   "metadata": {},
   "outputs": [],
   "source": [
    "fig = plt.figure()\n",
    "plt.plot(task_1_accuracies.keys(), task_1_accuracies.values())\n",
    "plt.plot(task_2_accuracies.keys(), task_2_accuracies.values())\n",
    "fig.show()"
   ]
  }
 ],
 "metadata": {
  "kernelspec": {
   "display_name": "cata",
   "language": "python",
   "name": "cata"
  },
  "language_info": {
   "codemirror_mode": {
    "name": "ipython",
    "version": 3
   },
   "file_extension": ".py",
   "mimetype": "text/x-python",
   "name": "python",
   "nbconvert_exporter": "python",
   "pygments_lexer": "ipython3",
   "version": "3.8.6"
  }
 },
 "nbformat": 4,
 "nbformat_minor": 5
}
