{
 "cells": [
  {
   "cell_type": "code",
   "execution_count": 1,
   "metadata": {},
   "outputs": [],
   "source": [
    "import os\n",
    "import pandas as pd\n",
    "import shutil"
   ]
  },
  {
   "cell_type": "code",
   "execution_count": 7,
   "metadata": {},
   "outputs": [],
   "source": [
    "root_folder = \"../experiments/results/longer_relu_vs_v/\"\n",
    "runs_by_index = [os.path.join(root_folder, str(i)) for i in range(50)]"
   ]
  },
  {
   "cell_type": "code",
   "execution_count": 17,
   "metadata": {},
   "outputs": [],
   "source": [
    "df = pd.read_csv(\"../experiments/results/longer_relu_vs_v/2020-08-28-23-46-33/43/data_logger.csv\")"
   ]
  },
  {
   "cell_type": "code",
   "execution_count": 18,
   "metadata": {},
   "outputs": [
    {
     "data": {
      "text/plain": [
       "300000"
      ]
     },
     "execution_count": 18,
     "metadata": {},
     "output_type": "execute_result"
    }
   ],
   "source": [
    "len(df)"
   ]
  },
  {
   "cell_type": "code",
   "execution_count": 10,
   "metadata": {},
   "outputs": [
    {
     "name": "stdout",
     "output_type": "stream",
     "text": [
      "300000\n",
      "300000\n",
      "300000\n",
      "300000\n",
      "300000\n",
      "300000\n",
      "300000\n",
      "300000\n",
      "300000\n",
      "300000\n",
      "300000\n",
      "300000\n",
      "300000\n",
      "300000\n",
      "300000\n",
      "300000\n",
      "300000\n",
      "300000\n",
      "300000\n",
      "300000\n",
      "300000\n",
      "300000\n",
      "300000\n",
      "300000\n",
      "300000\n",
      "300000\n",
      "300000\n",
      "300000\n",
      "300000\n",
      "300000\n",
      "300000\n",
      "300000\n",
      "300000\n",
      "300000\n",
      "300000\n",
      "300000\n",
      "Missing ../experiments/results/longer_relu_vs_v/36\n",
      "Missing ../experiments/results/longer_relu_vs_v/37\n",
      "300000\n",
      "300000\n",
      "300000\n",
      "300000\n",
      "300000\n",
      "Missing ../experiments/results/longer_relu_vs_v/43\n",
      "300000\n",
      "300000\n",
      "300000\n",
      "300000\n",
      "300000\n",
      "300000\n"
     ]
    }
   ],
   "source": [
    "for run in runs_by_index:\n",
    "    try:\n",
    "        df = pd.read_csv(os.path.join(run, \"data_logger.csv\"))\n",
    "        print(len(df))\n",
    "    except:\n",
    "        print(\"Missing\", run)"
   ]
  },
  {
   "cell_type": "code",
   "execution_count": 4,
   "metadata": {},
   "outputs": [
    {
     "name": "stdout",
     "output_type": "stream",
     "text": [
      "../experiments/results/mix2/2020-08-28-22-40-39/0 1500000\n",
      "../experiments/results/mix2/2020-08-28-22-40-39/6 1500000\n",
      "../experiments/results/mix2/2020-08-28-22-40-39/8 1500000\n",
      "../experiments/results/mix2/2020-08-28-22-40-39/4 1500000\n",
      "../experiments/results/mix2/2020-08-28-22-40-39/3 1500000\n",
      "../experiments/results/mix2/2020-08-28-22-40-38/1 1500000\n",
      "../experiments/results/mix2/2020-08-28-22-40-38/2 1500000\n",
      "../experiments/results/mix2/2020-08-28-22-40-38/5 1500000\n",
      "../experiments/results/mix2/2020-08-28-22-46-16/13 1500000\n",
      "../experiments/results/mix2/2020-08-28-22-46-16/14 1500000\n",
      "../experiments/results/mix2/2020-08-28-22-40-49/7 945500\n",
      "../experiments/results/mix2/2020-08-28-22-40-46/9 1500000\n",
      "../experiments/results/mix2/2020-08-28-22-44-49/11 1500000\n",
      "../experiments/results/mix2/2020-08-28-22-44-49/12 1500000\n",
      "../experiments/results/mix2/2020-08-28-22-42-08/10 1500000\n"
     ]
    },
    {
     "ename": "FileNotFoundError",
     "evalue": "[Errno 2] No such file or directory: '../experiments/results/mix2/2020-08-28-23-12-49'",
     "output_type": "error",
     "traceback": [
      "\u001b[0;31m---------------------------------------------------------------------------\u001b[0m",
      "\u001b[0;31mFileNotFoundError\u001b[0m                         Traceback (most recent call last)",
      "\u001b[0;32m<ipython-input-4-73c0bdf46f43>\u001b[0m in \u001b[0;36m<module>\u001b[0;34m\u001b[0m\n\u001b[1;32m      1\u001b[0m \u001b[0;32mfor\u001b[0m \u001b[0mdate_runs\u001b[0m \u001b[0;32min\u001b[0m \u001b[0mruns_by_date\u001b[0m\u001b[0;34m:\u001b[0m\u001b[0;34m\u001b[0m\u001b[0;34m\u001b[0m\u001b[0m\n\u001b[0;32m----> 2\u001b[0;31m     \u001b[0mrun_by_index\u001b[0m \u001b[0;34m=\u001b[0m \u001b[0;34m[\u001b[0m\u001b[0mos\u001b[0m\u001b[0;34m.\u001b[0m\u001b[0mpath\u001b[0m\u001b[0;34m.\u001b[0m\u001b[0mjoin\u001b[0m\u001b[0;34m(\u001b[0m\u001b[0mdate_runs\u001b[0m\u001b[0;34m,\u001b[0m \u001b[0mf\u001b[0m\u001b[0;34m)\u001b[0m \u001b[0;32mfor\u001b[0m \u001b[0mf\u001b[0m \u001b[0;32min\u001b[0m \u001b[0mos\u001b[0m\u001b[0;34m.\u001b[0m\u001b[0mlistdir\u001b[0m\u001b[0;34m(\u001b[0m\u001b[0mdate_runs\u001b[0m\u001b[0;34m)\u001b[0m\u001b[0;34m]\u001b[0m\u001b[0;34m\u001b[0m\u001b[0;34m\u001b[0m\u001b[0m\n\u001b[0m\u001b[1;32m      3\u001b[0m     \u001b[0;32mfor\u001b[0m \u001b[0mrun\u001b[0m \u001b[0;32min\u001b[0m \u001b[0mrun_by_index\u001b[0m\u001b[0;34m:\u001b[0m\u001b[0;34m\u001b[0m\u001b[0;34m\u001b[0m\u001b[0m\n\u001b[1;32m      4\u001b[0m         \u001b[0mdf\u001b[0m \u001b[0;34m=\u001b[0m \u001b[0mpd\u001b[0m\u001b[0;34m.\u001b[0m\u001b[0mread_csv\u001b[0m\u001b[0;34m(\u001b[0m\u001b[0mos\u001b[0m\u001b[0;34m.\u001b[0m\u001b[0mpath\u001b[0m\u001b[0;34m.\u001b[0m\u001b[0mjoin\u001b[0m\u001b[0;34m(\u001b[0m\u001b[0mrun\u001b[0m\u001b[0;34m,\u001b[0m \u001b[0;34m'data_logger.csv'\u001b[0m\u001b[0;34m)\u001b[0m\u001b[0;34m)\u001b[0m\u001b[0;34m\u001b[0m\u001b[0;34m\u001b[0m\u001b[0m\n\u001b[1;32m      5\u001b[0m         \u001b[0mprint\u001b[0m\u001b[0;34m(\u001b[0m\u001b[0mrun\u001b[0m\u001b[0;34m,\u001b[0m \u001b[0mlen\u001b[0m\u001b[0;34m(\u001b[0m\u001b[0mdf\u001b[0m\u001b[0;34m)\u001b[0m\u001b[0;34m)\u001b[0m\u001b[0;34m\u001b[0m\u001b[0;34m\u001b[0m\u001b[0m\n",
      "\u001b[0;31mFileNotFoundError\u001b[0m: [Errno 2] No such file or directory: '../experiments/results/mix2/2020-08-28-23-12-49'"
     ]
    }
   ],
   "source": [
    "for date_runs in runs_by_date:\n",
    "    run_by_index = [os.path.join(date_runs, f) for f in os.listdir(date_runs)]\n",
    "    for run in run_by_index:\n",
    "        df = pd.read_csv(os.path.join(run, 'data_logger.csv'))\n",
    "        print(run, len(df))"
   ]
  },
  {
   "cell_type": "code",
   "execution_count": null,
   "metadata": {},
   "outputs": [],
   "source": []
  }
 ],
 "metadata": {
  "kernelspec": {
   "display_name": "ach",
   "language": "python",
   "name": "ach"
  },
  "language_info": {
   "codemirror_mode": {
    "name": "ipython",
    "version": 3
   },
   "file_extension": ".py",
   "mimetype": "text/x-python",
   "name": "python",
   "nbconvert_exporter": "python",
   "pygments_lexer": "ipython3",
   "version": "3.8.6"
  }
 },
 "nbformat": 4,
 "nbformat_minor": 4
}
