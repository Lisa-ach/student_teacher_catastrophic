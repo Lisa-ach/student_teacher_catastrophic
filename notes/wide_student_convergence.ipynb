{
 "cells": [
  {
   "cell_type": "code",
   "execution_count": 81,
   "metadata": {},
   "outputs": [],
   "source": [
    "import matplotlib.pyplot as plt\n",
    "\n",
    "import numpy as np\n",
    "\n",
    "import torch\n",
    "import torch.nn as nn\n",
    "\n",
    "from typing import List, Union"
   ]
  },
  {
   "cell_type": "code",
   "execution_count": 82,
   "metadata": {},
   "outputs": [],
   "source": [
    "def scaled_erf_activation(x):\n",
    "    return torch.erf(x / np.sqrt(2))"
   ]
  },
  {
   "cell_type": "markdown",
   "metadata": {},
   "source": [
    "## Network Classes"
   ]
  },
  {
   "cell_type": "code",
   "execution_count": 83,
   "metadata": {},
   "outputs": [],
   "source": [
    "class TeacherNetwork(nn.Module):\n",
    "    \n",
    "    def __init__(\n",
    "        self, \n",
    "        input_dimension: int, \n",
    "        output_dimension: int,\n",
    "        teacher_hidden_dimension: int, \n",
    "        teacher_initialisation_std: float, \n",
    "        teacher_hidden_scaling: bool, \n",
    "        teacher_forward_scaling: bool,\n",
    "        unit_norm_teacher_head: bool\n",
    "    ):\n",
    "        self._input_dimension = input_dimension\n",
    "        self._output_dimension = output_dimension\n",
    "        self._teacher_hidden_dimension = teacher_hidden_dimension\n",
    "        self._teacher_initialisation_std = teacher_initialisation_std\n",
    "        self._unit_norm_teacher_head = unit_norm_teacher_head\n",
    "        \n",
    "        if teacher_hidden_scaling:\n",
    "            self._hidden_scaling = 1 / np.sqrt(input_dimension)\n",
    "        else:\n",
    "            self._hidden_scaling = 1.\n",
    "            \n",
    "        if teacher_forward_scaling:\n",
    "            self._forward_scaling = 1 / np.sqrt(teacher_hidden_dimension)\n",
    "        else:\n",
    "            self._forward_scaling = 1.\n",
    "        \n",
    "        self._activation = scaled_erf_activation\n",
    "        \n",
    "        super().__init__()\n",
    "        \n",
    "        self._construct_layers()\n",
    "        \n",
    "    def _construct_layers(self):\n",
    "        \n",
    "        self._layer1 = nn.Linear(self._input_dimension, self._teacher_hidden_dimension, bias=False)\n",
    "        self._layer2 = nn.Linear(self._teacher_hidden_dimension, self._output_dimension, bias=False)\n",
    "        \n",
    "        nn.init.normal_(self._layer1.weight, std=self._teacher_initialisation_std)\n",
    "        \n",
    "        if self._unit_norm_teacher_head:\n",
    "            head_norm = torch.norm(self._layer2.weight)\n",
    "            normalised_head = self._layer2.weight / head_norm\n",
    "            self._layer2.weight.data = normalised_head\n",
    "            \n",
    "        else:\n",
    "            nn.init.normal_(self._layer2.weight, std=self._teacher_initialisation_std)\n",
    "            \n",
    "        for param in self.parameters():\n",
    "            param.requires_grad = False\n",
    "        \n",
    "    def forward(self, x):\n",
    "        x = self._activation(self._hidden_scaling * self._layer1(x))\n",
    "        y = self._forward_scaling * self._layer2(x)\n",
    "        return y"
   ]
  },
  {
   "cell_type": "code",
   "execution_count": 84,
   "metadata": {},
   "outputs": [],
   "source": [
    "class DeepStudentNetwork(nn.Module):\n",
    "    \n",
    "    def __init__(\n",
    "        self, \n",
    "        input_dimension: int, \n",
    "        output_dimension: int,\n",
    "        student_hidden_dimension: int, \n",
    "        student_initialisation_std: float, \n",
    "        student_hidden_scaling: bool, \n",
    "        student_forward_scaling: bool,\n",
    "    ):\n",
    "        self._input_dimension = input_dimension\n",
    "        self._output_dimension = output_dimension\n",
    "        self._student_hidden_dimension = student_hidden_dimension\n",
    "        self._student_initialisation_std = student_initialisation_std\n",
    "        \n",
    "        if student_hidden_scaling:\n",
    "            self._hidden_scaling = 1 / np.sqrt(input_dimension)\n",
    "        else:\n",
    "            self._hidden_scaling = 1.\n",
    "            \n",
    "        if student_forward_scaling:\n",
    "            self._forward_scaling = 1 / student_hidden_dimension\n",
    "        else:\n",
    "            self._forward_scaling = 1.\n",
    "            \n",
    "        self._activation = scaled_erf_activation\n",
    "        \n",
    "        super().__init__()\n",
    "    \n",
    "        self._construct_layers()\n",
    "        \n",
    "    def _construct_layers(self):\n",
    "        \n",
    "        self._layer1 = nn.Linear(self._input_dimension, self._student_hidden_dimension, bias=False)\n",
    "        \n",
    "        nn.init.normal_(self._layer1.weight, std=self._student_initialisation_std)\n",
    "        \n",
    "        self._heads = nn.ModuleList()\n",
    "        \n",
    "        head1 = nn.Linear(self._student_hidden_dimension, self._output_dimension, bias=False)\n",
    "        head2 = nn.Linear(self._student_hidden_dimension, self._output_dimension, bias=False)\n",
    "        \n",
    "        nn.init.normal_(head1.weight, std=self._student_initialisation_std)\n",
    "        nn.init.normal_(head2.weight, std=self._student_initialisation_std)\n",
    "\n",
    "        self._heads.append(head1)\n",
    "        self._heads.append(head2)\n",
    "            \n",
    "    def switch(self, index: int):\n",
    "        self._active_head_index = index\n",
    "        inactive_head_index = int(not index)\n",
    "        for param in self._heads[inactive_head_index].parameters():\n",
    "            param.requires_grad = False\n",
    "        for param in self._heads[index].parameters():\n",
    "            param.requires_grad = True\n",
    "        \n",
    "    def forward(self, x):\n",
    "        x = self._activation(self._hidden_scaling * self._layer1(x))\n",
    "        y = self._forward_scaling * self._heads[self._active_head_index](x)\n",
    "        return y\n",
    "    \n",
    "    def forward_all(self, x):\n",
    "        x = self._activation(self._hidden_scaling * self._layer1(x))\n",
    "        ys = [self._forward_scaling * head(x) for head in self._heads]\n",
    "        return ys"
   ]
  },
  {
   "cell_type": "code",
   "execution_count": 85,
   "metadata": {},
   "outputs": [],
   "source": [
    "class OneLayerStudentNetwork(nn.Module):\n",
    "    \n",
    "    def __init__(\n",
    "        self, \n",
    "        input_dimension: int, \n",
    "        output_dimension: int,\n",
    "        student_initialisation_std: float, \n",
    "        student_hidden_scaling: bool, \n",
    "        activate: bool\n",
    "    ):\n",
    "        \n",
    "        self._input_dimension = input_dimension\n",
    "        self._output_dimension = output_dimension\n",
    "        self._student_initialisation_std = student_initialisation_std\n",
    "        \n",
    "        if student_hidden_scaling:\n",
    "            self._hidden_scaling = 1 / np.sqrt(input_dimension)\n",
    "        else:\n",
    "            self._hidden_scaling = 1.\n",
    "            \n",
    "        self._activation = scaled_erf_activation\n",
    "        self._activate = activate\n",
    "        \n",
    "        super().__init__()\n",
    "    \n",
    "        self._construct_layers()\n",
    "        \n",
    "    def _construct_layers(self):\n",
    "        \n",
    "        self._heads = nn.ModuleList()\n",
    "        \n",
    "        head1 = nn.Linear(self._input_dimension, self._output_dimension, bias=False)\n",
    "        head2 = nn.Linear(self._input_dimension, self._output_dimension, bias=False)\n",
    "        \n",
    "        nn.init.normal_(head1.weight, std=self._student_initialisation_std)\n",
    "        nn.init.normal_(head2.weight, std=self._student_initialisation_std)\n",
    "\n",
    "        self._heads.append(head1)\n",
    "        self._heads.append(head2)\n",
    "            \n",
    "    def switch(self, index: int):\n",
    "        self._active_head_index = index\n",
    "        inactive_head_index = int(not index)\n",
    "        for param in self._heads[inactive_head_index].parameters():\n",
    "            param.requires_grad = False\n",
    "        for param in self._heads[index].parameters():\n",
    "            param.requires_grad = True\n",
    "        \n",
    "    def forward(self, x):\n",
    "        x = self._hidden_scaling * self._heads[self._active_head_index](x)\n",
    "        if self._activate:\n",
    "            y = self._activation(x)\n",
    "        else:\n",
    "            y = x\n",
    "        return y\n",
    "    \n",
    "    def forward_all(self, x):\n",
    "        xs = [self._hidden_scaling * head(x) for head in self._heads]\n",
    "        if self._activate:\n",
    "            ys = [self._activation(x) for x in xs]\n",
    "        else:\n",
    "            ys = xs\n",
    "        return ys"
   ]
  },
  {
   "cell_type": "markdown",
   "metadata": {},
   "source": [
    "## Trainer Class"
   ]
  },
  {
   "cell_type": "code",
   "execution_count": 86,
   "metadata": {},
   "outputs": [],
   "source": [
    "class Trainer:\n",
    "    \n",
    "    def __init__(\n",
    "        self, \n",
    "        teachers: List[TeacherNetwork], \n",
    "        student: Union[DeepStudentNetwork, OneLayerStudentNetwork], \n",
    "        lr: float, \n",
    "        test_data: torch.Tensor,\n",
    "        verbose: bool = False\n",
    "    ):\n",
    "        self._teachers = teachers\n",
    "        self._student = student\n",
    "        \n",
    "        self._verbose = verbose\n",
    "        \n",
    "        self._loss_function = nn.MSELoss()\n",
    "        self._optimiser = torch.optim.SGD(self._student.parameters(), lr=lr)\n",
    "        \n",
    "        self._test_data = test_data\n",
    "        \n",
    "        self._test_teacher_output = [teacher(self._test_data) for teacher in self._teachers]\n",
    "        \n",
    "        self._test_loss_teacher_0 = []\n",
    "        self._test_loss_teacher_1 = []\n",
    "        \n",
    "    @property\n",
    "    def test_losses(self):\n",
    "        return self._test_loss_teacher_0, self._test_loss_teacher_1\n",
    "\n",
    "    def train(\n",
    "        self, \n",
    "        num_steps: int, \n",
    "        switch_steps: List[int],\n",
    "        test_frequency: int\n",
    "    ):    \n",
    "        switch_step_generator = iter(switch_steps)\n",
    "\n",
    "        try:\n",
    "            next_switch_step = next(switch_step_generator)\n",
    "        except StopIteration:\n",
    "            next_switch_step = np.inf\n",
    "\n",
    "        teacher_index = 0\n",
    "        self._student.switch(teacher_index)\n",
    "\n",
    "        for i in range(num_steps):\n",
    "\n",
    "            if i % test_frequency == 0:\n",
    "                with torch.no_grad():\n",
    "\n",
    "                    test_student_outputs = self._student.forward_all(self._test_data)\n",
    "\n",
    "                    test_loss = [\n",
    "                        self._loss_function(student_output, teacher_output).item() \n",
    "                        for student_output, teacher_output in zip(test_student_outputs, self._test_teacher_output)\n",
    "                    ]\n",
    "                    self._test_loss_teacher_0.append(test_loss[0])\n",
    "                    self._test_loss_teacher_1.append(test_loss[1])\n",
    "\n",
    "            if i == next_switch_step:\n",
    "                teacher_index = int(not teacher_index)\n",
    "                self._student.switch(teacher_index)\n",
    "                try:\n",
    "                    next_switch_step = next(switch_step_generator)\n",
    "                except StopIteration:\n",
    "                    next_switch_step = np.inf\n",
    "\n",
    "            if self._verbose and i % 500 == 0 and i != 0:\n",
    "                print(f\"step {i}. Latest errors = {test_loss}\")\n",
    "\n",
    "            data = torch.from_numpy(np.random.normal(size=(1, input_dimension))).to(torch.float32)\n",
    "\n",
    "            teacher_output = self._teachers[teacher_index](data)\n",
    "            student_output = self._student(data)\n",
    "\n",
    "            loss = self._loss_function(student_output, teacher_output)\n",
    "\n",
    "            self._optimiser.zero_grad()\n",
    "            loss.backward()\n",
    "            self._optimiser.step()"
   ]
  },
  {
   "cell_type": "markdown",
   "metadata": {},
   "source": [
    "## Params"
   ]
  },
  {
   "cell_type": "code",
   "execution_count": 87,
   "metadata": {},
   "outputs": [],
   "source": [
    "input_dimension = 15\n",
    "teacher_hidden_dimension = 500\n",
    "student_hidden_dimension = 1000\n",
    "output_dimension = 1\n",
    "\n",
    "teacher_hidden_scaling = True\n",
    "student_hidden_scaling = True\n",
    "\n",
    "teacher_forward_scaling = True\n",
    "student_forward_scaling = True\n",
    "\n",
    "unit_norm_teacher_head = False\n",
    "teacher_initialisation_std = 1\n",
    "student_initialisation_std = 0.001\n",
    "\n",
    "num_steps = 200000\n",
    "two_layer_lr = 5\n",
    "one_layer_lr = 0.0001\n",
    "test_frequency = 100\n",
    "\n",
    "test_set_size = 20000\n",
    "\n",
    "switch_steps = []"
   ]
  },
  {
   "cell_type": "code",
   "execution_count": 88,
   "metadata": {},
   "outputs": [],
   "source": [
    "test_data = torch.randn((test_set_size, input_dimension))"
   ]
  },
  {
   "cell_type": "code",
   "execution_count": 89,
   "metadata": {},
   "outputs": [],
   "source": [
    "teachers = [\n",
    "    TeacherNetwork(input_dimension=input_dimension, output_dimension=output_dimension, teacher_hidden_dimension=teacher_hidden_dimension, teacher_initialisation_std=teacher_initialisation_std, teacher_hidden_scaling=teacher_hidden_scaling, teacher_forward_scaling=teacher_forward_scaling, unit_norm_teacher_head=unit_norm_teacher_head),\n",
    "    TeacherNetwork(input_dimension=input_dimension, output_dimension=output_dimension, teacher_hidden_dimension=teacher_hidden_dimension, teacher_initialisation_std=teacher_initialisation_std, teacher_hidden_scaling=teacher_hidden_scaling, teacher_forward_scaling=teacher_forward_scaling, unit_norm_teacher_head=unit_norm_teacher_head)\n",
    "]"
   ]
  },
  {
   "cell_type": "code",
   "execution_count": 103,
   "metadata": {},
   "outputs": [],
   "source": [
    "# deep_student = DeepStudentNetwork(input_dimension=input_dimension, output_dimension=output_dimension, student_hidden_dimension=student_hidden_dimension, student_initialisation_std=student_initialisation_std, student_hidden_scaling=student_hidden_scaling, student_forward_scaling=student_forward_scaling)\n",
    "linear_one_layer_student = OneLayerStudentNetwork(input_dimension=input_dimension, output_dimension=output_dimension, student_initialisation_std=student_initialisation_std, student_hidden_scaling=False, activate=False)\n",
    "nonlinear_one_layer_student = OneLayerStudentNetwork(input_dimension=input_dimension, output_dimension=output_dimension, student_initialisation_std=student_initialisation_std, student_hidden_scaling=False, activate=True)"
   ]
  },
  {
   "cell_type": "code",
   "execution_count": 104,
   "metadata": {},
   "outputs": [],
   "source": [
    "# deep_student_trainer = Trainer(teachers=teachers, student=deep_student, lr=two_layer_lr, test_data=test_data, verbose=True)\n",
    "linear_one_layer_student_trainer = Trainer(teachers=teachers, student=linear_one_layer_student, lr=one_layer_lr, test_data=test_data)\n",
    "nonlinear_one_layer_student_trainer = Trainer(teachers=teachers, student=nonlinear_one_layer_student, lr=one_layer_lr, test_data=test_data)"
   ]
  },
  {
   "cell_type": "code",
   "execution_count": 105,
   "metadata": {},
   "outputs": [],
   "source": [
    "# deep_student_trainer.train(num_steps=1000000, switch_steps=switch_steps, test_frequency=test_frequency)\n",
    "linear_one_layer_student_trainer.train(num_steps=1000000, switch_steps=switch_steps, test_frequency=test_frequency)\n",
    "nonlinear_one_layer_student_trainer.train(num_steps=1000000, switch_steps=switch_steps, test_frequency=test_frequency)"
   ]
  },
  {
   "cell_type": "code",
   "execution_count": 106,
   "metadata": {},
   "outputs": [
    {
     "name": "stderr",
     "output_type": "stream",
     "text": [
      "<ipython-input-106-4f435e9233d7>:6: UserWarning: Matplotlib is currently using module://ipykernel.pylab.backend_inline, which is a non-GUI backend, so cannot show the figure.\n",
      "  fig.show()\n"
     ]
    },
    {
     "data": {
      "image/png": "[encoded data removed]",
      "text/plain": [
       "<Figure size 432x288 with 1 Axes>"
      ]
     },
     "metadata": {
      "needs_background": "light"
     },
     "output_type": "display_data"
    }
   ],
   "source": [
    "fig = plt.figure()\n",
    "plt.plot(range(len(deep_student_trainer.test_losses[0])), np.log10(deep_student_trainer.test_losses[0]), label=\"Deep Network\")\n",
    "plt.plot(range(len(linear_one_layer_student_trainer.test_losses[0])), np.log10(linear_one_layer_student_trainer.test_losses[0]), label=\"Linear One Layer\")\n",
    "plt.plot(range(len(nonlinear_one_layer_student_trainer.test_losses[0])), np.log10(nonlinear_one_layer_student_trainer.test_losses[0]), label=\"Non-Linear One Layer\")\n",
    "plt.legend()\n",
    "fig.show()"
   ]
  },
  {
   "cell_type": "code",
   "execution_count": 99,
   "metadata": {},
   "outputs": [
    {
     "name": "stderr",
     "output_type": "stream",
     "text": [
      "<ipython-input-99-969105e6b3eb>:2: RuntimeWarning: divide by zero encountered in log10\n",
      "  plt.plot(np.log10(range(len(deep_student_trainer.test_losses[0]))), np.log10(deep_student_trainer.test_losses[0]), label=\"Deep Network\")\n",
      "<ipython-input-99-969105e6b3eb>:3: RuntimeWarning: divide by zero encountered in log10\n",
      "  plt.plot(np.log10(range(len(linear_one_layer_student_trainer.test_losses[0]))), np.log10(linear_one_layer_student_trainer.test_losses[0]), label=\"Linear One Layer\")\n",
      "<ipython-input-99-969105e6b3eb>:4: RuntimeWarning: divide by zero encountered in log10\n",
      "  plt.plot(np.log10(range(len(nonlinear_one_layer_student_trainer.test_losses[0]))), np.log10(nonlinear_one_layer_student_trainer.test_losses[0]), label=\"Non-Linear One Layer\")\n",
      "<ipython-input-99-969105e6b3eb>:6: UserWarning: Matplotlib is currently using module://ipykernel.pylab.backend_inline, which is a non-GUI backend, so cannot show the figure.\n",
      "  fig.show()\n"
     ]
    },
    {
     "data": {
      "image/png": "[encoded data removed]",
      "text/plain": [
       "<Figure size 432x288 with 1 Axes>"
      ]
     },
     "metadata": {
      "needs_background": "light"
     },
     "output_type": "display_data"
    }
   ],
   "source": [
    "fig = plt.figure()\n",
    "plt.plot(np.log10(range(len(deep_student_trainer.test_losses[0]))), np.log10(deep_student_trainer.test_losses[0]), label=\"Deep Network\")\n",
    "plt.plot(np.log10(range(len(linear_one_layer_student_trainer.test_losses[0]))), np.log10(linear_one_layer_student_trainer.test_losses[0]), label=\"Linear One Layer\")\n",
    "plt.plot(np.log10(range(len(nonlinear_one_layer_student_trainer.test_losses[0]))), np.log10(nonlinear_one_layer_student_trainer.test_losses[0]), label=\"Non-Linear One Layer\")\n",
    "plt.legend()\n",
    "fig.show()"
   ]
  },
  {
   "cell_type": "code",
   "execution_count": 14,
   "metadata": {},
   "outputs": [
    {
     "name": "stderr",
     "output_type": "stream",
     "text": [
      "<ipython-input-14-0c4f9cc8e567>:4: UserWarning: Matplotlib is currently using module://ipykernel.pylab.backend_inline, which is a non-GUI backend, so cannot show the figure.\n",
      "  fig.show()\n"
     ]
    },
    {
     "data": {
      "image/png": "[encoded data removed]",
      "text/plain": [
       "<Figure size 432x288 with 1 Axes>"
      ]
     },
     "metadata": {
      "needs_background": "light"
     },
     "output_type": "display_data"
    }
   ],
   "source": [
    "fig = plt.figure()\n",
    "plt.plot(range(len(deep_student_trainer.test_losses[0])), np.log10(deep_student_trainer.test_losses[0]), label=\"Deep Network\")\n",
    "plt.legend()\n",
    "fig.show()"
   ]
  },
  {
   "cell_type": "code",
   "execution_count": null,
   "metadata": {},
   "outputs": [],
   "source": []
  }
 ],
 "metadata": {
  "kernelspec": {
   "display_name": "Python 3",
   "language": "python",
   "name": "python3"
  },
  "language_info": {
   "codemirror_mode": {
    "name": "ipython",
    "version": 3
   },
   "file_extension": ".py",
   "mimetype": "text/x-python",
   "name": "python",
   "nbconvert_exporter": "python",
   "pygments_lexer": "ipython3",
   "version": "3.7.10"
  }
 },
 "nbformat": 4,
 "nbformat_minor": 4
}
