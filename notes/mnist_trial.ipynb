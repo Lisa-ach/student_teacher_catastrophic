{
 "cells": [
  {
   "cell_type": "code",
   "execution_count": 1,
   "metadata": {},
   "outputs": [],
   "source": [
    "import torch\n",
    "import torchvision"
   ]
  },
  {
   "cell_type": "code",
   "execution_count": 2,
   "metadata": {},
   "outputs": [],
   "source": [
    "import numpy as np\n",
    "import matplotlib.pyplot as plt\n",
    "import random"
   ]
  },
  {
   "cell_type": "markdown",
   "metadata": {},
   "source": [
    "## Data"
   ]
  },
  {
   "cell_type": "code",
   "execution_count": 3,
   "metadata": {},
   "outputs": [],
   "source": [
    "transform = torchvision.transforms.Compose([\n",
    "    torchvision.transforms.Grayscale(num_output_channels=1),\n",
    "    torchvision.transforms.ToTensor()\n",
    "])"
   ]
  },
  {
   "cell_type": "code",
   "execution_count": 25,
   "metadata": {},
   "outputs": [],
   "source": [
    "mnist_train = torchvision.datasets.MNIST('data/', transform=transform, train=True)\n",
    "mnist_test = torchvision.datasets.MNIST('data/', transform=transform, train=False)"
   ]
  },
  {
   "cell_type": "code",
   "execution_count": 34,
   "metadata": {},
   "outputs": [
    {
     "name": "stderr",
     "output_type": "stream",
     "text": [
      "/Users/sebastianlee/Envs/meta/lib/python3.7/site-packages/torchvision/datasets/mnist.py:53: UserWarning: train_data has been renamed data\n",
      "  warnings.warn(\"train_data has been renamed data\")\n",
      "/Users/sebastianlee/Envs/meta/lib/python3.7/site-packages/torchvision/datasets/mnist.py:43: UserWarning: train_labels has been renamed targets\n",
      "  warnings.warn(\"train_labels has been renamed targets\")\n"
     ]
    }
   ],
   "source": [
    "mnist_train_x = mnist_train.train_data\n",
    "mnist_train_y = mnist_train.train_labels\n",
    "mnist_test_x = mnist_test.test_data\n",
    "mnist_test_y = mnist_test.test_labels"
   ]
  },
  {
   "cell_type": "code",
   "execution_count": null,
   "metadata": {},
   "outputs": [],
   "source": []
  },
  {
   "cell_type": "code",
   "execution_count": null,
   "metadata": {},
   "outputs": [],
   "source": []
  },
  {
   "cell_type": "code",
   "execution_count": null,
   "metadata": {},
   "outputs": [],
   "source": []
  },
  {
   "cell_type": "code",
   "execution_count": 35,
   "metadata": {},
   "outputs": [],
   "source": [
    "def get_data():\n",
    "\n",
    "    binary_mnist_0 = [(torch.flatten(x).type(torch.FloatTensor), torch.Tensor([0]).type(torch.LongTensor)) for (i, x) in enumerate(mnist_train_x) if mnist_train_y[i] == 0]\n",
    "    binary_mnist_1 = [(torch.flatten(x).type(torch.FloatTensor), torch.Tensor([1]).type(torch.LongTensor)) for (i, x) in enumerate(mnist_train_x) if mnist_train_y[i] == 1]\n",
    "\n",
    "    binary_mnist = binary_mnist_0 + binary_mnist_1\n",
    "    random.shuffle(binary_mnist)\n",
    "\n",
    "    binary_mnist_x = [d[0] for d in binary_mnist]\n",
    "    binary_mnist_y = [d[1] for d in binary_mnist]\n",
    "    \n",
    "    return binary_mnist_x, binary_mnist_y"
   ]
  },
  {
   "cell_type": "code",
   "execution_count": 36,
   "metadata": {},
   "outputs": [],
   "source": [
    "def get_test_data():\n",
    "    \n",
    "    binary_mnist_0 = [(torch.flatten(x).type(torch.FloatTensor), torch.Tensor([0]).type(torch.LongTensor)) for (i, x) in enumerate(mnist_test_x) if mnist_test_y[i] == 0]\n",
    "    binary_mnist_1 = [(torch.flatten(x).type(torch.FloatTensor), torch.Tensor([1]).type(torch.LongTensor)) for (i, x) in enumerate(mnist_test_x) if mnist_test_y[i] == 1]\n",
    "\n",
    "    binary_mnist = binary_mnist_0 + binary_mnist_1\n",
    "    random.shuffle(binary_mnist)\n",
    "\n",
    "    binary_mnist_x = torch.stack([d[0] for d in binary_mnist])\n",
    "    binary_mnist_y = torch.flatten(torch.Tensor([d[1] for d in binary_mnist]))\n",
    "    \n",
    "    return binary_mnist_x, binary_mnist_y"
   ]
  },
  {
   "cell_type": "code",
   "execution_count": 65,
   "metadata": {},
   "outputs": [],
   "source": [
    "d_trial = get_data()"
   ]
  },
  {
   "cell_type": "code",
   "execution_count": 69,
   "metadata": {},
   "outputs": [
    {
     "name": "stdout",
     "output_type": "stream",
     "text": [
      "12665\n"
     ]
    }
   ],
   "source": [
    "print(len(d_trial[0]))"
   ]
  },
  {
   "cell_type": "code",
   "execution_count": 39,
   "metadata": {},
   "outputs": [
    {
     "name": "stdout",
     "output_type": "stream",
     "text": [
      "torch.Size([2115, 784]) torch.Size([2115])\n"
     ]
    }
   ],
   "source": [
    "print(td[0].shape, td[1].shape)"
   ]
  },
  {
   "cell_type": "code",
   "execution_count": 8,
   "metadata": {},
   "outputs": [
    {
     "name": "stderr",
     "output_type": "stream",
     "text": [
      "/Users/sebastianlee/Envs/meta/lib/python3.7/site-packages/ipykernel_launcher.py:3: UserWarning: Matplotlib is currently using module://ipykernel.pylab.backend_inline, which is a non-GUI backend, so cannot show the figure.\n",
      "  This is separate from the ipykernel package so we can avoid doing imports until\n"
     ]
    },
    {
     "data": {
      "image/png": "[encoded data removed]",
      "text/plain": [
       "<Figure size 432x288 with 1 Axes>"
      ]
     },
     "metadata": {
      "needs_background": "light"
     },
     "output_type": "display_data"
    }
   ],
   "source": [
    "fig = plt.figure()\n",
    "plt.imshow(mnist_train_x[0].numpy(), cmap='gray')\n",
    "fig.show()"
   ]
  },
  {
   "cell_type": "code",
   "execution_count": null,
   "metadata": {},
   "outputs": [],
   "source": []
  },
  {
   "cell_type": "code",
   "execution_count": 9,
   "metadata": {},
   "outputs": [],
   "source": [
    "def plot_instance(i):\n",
    "    fig = plt.figure()\n",
    "    plt.imshow(binary_mnist_x[i].reshape((28, 28)))\n",
    "    plt.title(\"Example of {}\".format(binary_mnist_y[i]))\n",
    "    fig.show()"
   ]
  },
  {
   "cell_type": "markdown",
   "metadata": {},
   "source": [
    "## Model"
   ]
  },
  {
   "cell_type": "code",
   "execution_count": 10,
   "metadata": {},
   "outputs": [],
   "source": [
    "class MNISTModel(torch.nn.Module):\n",
    "    \n",
    "    def __init__(self):\n",
    "        \n",
    "        super(MNISTModel, self).__init__()\n",
    "        \n",
    "        self.fc1 = torch.nn.Linear(784, 1024)\n",
    "        self.fc2 = torch.nn.Linear(1024, 784)\n",
    "        self.fc3 = torch.nn.Linear(784, 256)\n",
    "        self.fc4 = torch.nn.Linear(256, 64)\n",
    "        self.fc5 = torch.nn.Linear(64, 2)\n",
    "        \n",
    "    def forward(self, x):\n",
    "        x = torch.nn.functional.relu(self.fc1(x))\n",
    "        x = torch.nn.functional.relu(self.fc2(x))\n",
    "        x = torch.nn.functional.relu(self.fc3(x))\n",
    "        x = torch.nn.functional.relu(self.fc4(x))\n",
    "        y = self.fc5(x)\n",
    "        \n",
    "        return y\n",
    "    "
   ]
  },
  {
   "cell_type": "code",
   "execution_count": 76,
   "metadata": {},
   "outputs": [],
   "source": [
    "class MNISTTrainer:\n",
    "    \n",
    "    def __init__(self, num_epochs, lr):\n",
    "        \n",
    "        self.model = MNISTModel()\n",
    "        self.loss_fn = torch.nn.CrossEntropyLoss()\n",
    "        \n",
    "        self.num_epochs = num_epochs\n",
    "        self.lr = lr\n",
    "        \n",
    "        self.optimiser = torch.optim.SGD(self.model.parameters(), lr = self.lr)\n",
    "        self.losses = []\n",
    "        self.accuracies = []\n",
    "        \n",
    "        self.test_data = get_test_data()\n",
    "        \n",
    "    def train(self):\n",
    "        for e in range(self.num_epochs):\n",
    "            \n",
    "            i = 0\n",
    "            \n",
    "            x_data, y_data = get_data()\n",
    "            \n",
    "            assert(len(x_data) == len(y_data))\n",
    "            \n",
    "            while len(x_data) != 0:\n",
    "                \n",
    "                x = x_data.pop()\n",
    "                x = x.unsqueeze(0)\n",
    "                \n",
    "                y = y_data.pop()\n",
    "                \n",
    "                yhat = self.model(x)\n",
    "                \n",
    "                self.optimiser.zero_grad()\n",
    "                loss = self.loss_fn(yhat, y)\n",
    "                loss.backward()\n",
    "                self.optimiser.step()\n",
    "            \n",
    "                self.losses.append(float(loss))\n",
    "                \n",
    "                if i % 100 == 0:\n",
    "                \n",
    "                    test_forward = self.model(self.test_data[0]).detach().numpy()\n",
    "                    test_yhat = np.argmax(test_forward, axis=1)\n",
    "                    acc = sum(test_yhat == self.test_data[1].numpy()) / len(self.test_data[1])\n",
    "\n",
    "                    print(\"accuracy at time step {}: {}\".format(i, acc))\n",
    "                    \n",
    "                    self.accuracies.append(acc)\n",
    "                \n",
    "                i += 1\n",
    "                \n",
    "                "
   ]
  },
  {
   "cell_type": "code",
   "execution_count": 77,
   "metadata": {},
   "outputs": [],
   "source": [
    "trainer = MNISTTrainer(1, 0.001)"
   ]
  },
  {
   "cell_type": "code",
   "execution_count": 78,
   "metadata": {},
   "outputs": [
    {
     "name": "stdout",
     "output_type": "stream",
     "text": [
      "accuracy at time step 0: 0.46335697399527187\n",
      "accuracy at time step 100: 0.9971631205673759\n",
      "accuracy at time step 200: 0.9981087470449173\n",
      "accuracy at time step 300: 0.9976359338061466\n",
      "accuracy at time step 400: 0.9971631205673759\n",
      "accuracy at time step 500: 0.9895981087470449\n",
      "accuracy at time step 600: 0.9981087470449173\n",
      "accuracy at time step 700: 0.9990543735224586\n",
      "accuracy at time step 800: 0.9985815602836879\n",
      "accuracy at time step 900: 0.9985815602836879\n",
      "accuracy at time step 1000: 0.9981087470449173\n",
      "accuracy at time step 1100: 0.9981087470449173\n",
      "accuracy at time step 1200: 0.9985815602836879\n",
      "accuracy at time step 1300: 0.9985815602836879\n",
      "accuracy at time step 1400: 0.9985815602836879\n",
      "accuracy at time step 1500: 0.9985815602836879\n",
      "accuracy at time step 1600: 0.9985815602836879\n",
      "accuracy at time step 1700: 0.9985815602836879\n",
      "accuracy at time step 1800: 0.9985815602836879\n",
      "accuracy at time step 1900: 0.9990543735224586\n",
      "accuracy at time step 2000: 0.9985815602836879\n",
      "accuracy at time step 2100: 0.9985815602836879\n",
      "accuracy at time step 2200: 0.9990543735224586\n",
      "accuracy at time step 2300: 0.9962174940898345\n",
      "accuracy at time step 2400: 0.9985815602836879\n",
      "accuracy at time step 2500: 0.9990543735224586\n",
      "accuracy at time step 2600: 0.9990543735224586\n",
      "accuracy at time step 2700: 0.9990543735224586\n",
      "accuracy at time step 2800: 0.9990543735224586\n",
      "accuracy at time step 2900: 0.9990543735224586\n",
      "accuracy at time step 3000: 0.9990543735224586\n",
      "accuracy at time step 3100: 0.9990543735224586\n",
      "accuracy at time step 3200: 0.9990543735224586\n",
      "accuracy at time step 3300: 0.9990543735224586\n",
      "accuracy at time step 3400: 0.9990543735224586\n",
      "accuracy at time step 3500: 0.9990543735224586\n",
      "accuracy at time step 3600: 0.9990543735224586\n",
      "accuracy at time step 3700: 0.9990543735224586\n",
      "accuracy at time step 3800: 0.9990543735224586\n",
      "accuracy at time step 3900: 0.9990543735224586\n",
      "accuracy at time step 4000: 0.9990543735224586\n",
      "accuracy at time step 4100: 0.9990543735224586\n",
      "accuracy at time step 4200: 0.9990543735224586\n",
      "accuracy at time step 4300: 0.9990543735224586\n",
      "accuracy at time step 4400: 0.9990543735224586\n",
      "accuracy at time step 4500: 0.9990543735224586\n",
      "accuracy at time step 4600: 0.9990543735224586\n",
      "accuracy at time step 4700: 0.9990543735224586\n",
      "accuracy at time step 4800: 0.9990543735224586\n",
      "accuracy at time step 4900: 0.9990543735224586\n",
      "accuracy at time step 5000: 0.9990543735224586\n",
      "accuracy at time step 5100: 0.9985815602836879\n",
      "accuracy at time step 5200: 0.9985815602836879\n",
      "accuracy at time step 5300: 0.9990543735224586\n",
      "accuracy at time step 5400: 0.9985815602836879\n",
      "accuracy at time step 5500: 0.9981087470449173\n",
      "accuracy at time step 5600: 0.9990543735224586\n",
      "accuracy at time step 5700: 0.9990543735224586\n",
      "accuracy at time step 5800: 0.9990543735224586\n",
      "accuracy at time step 5900: 0.9985815602836879\n",
      "accuracy at time step 6000: 0.9985815602836879\n",
      "accuracy at time step 6100: 0.9985815602836879\n",
      "accuracy at time step 6200: 0.9985815602836879\n",
      "accuracy at time step 6300: 0.9985815602836879\n",
      "accuracy at time step 6400: 0.9985815602836879\n",
      "accuracy at time step 6500: 0.9981087470449173\n",
      "accuracy at time step 6600: 0.9985815602836879\n",
      "accuracy at time step 6700: 0.9985815602836879\n",
      "accuracy at time step 6800: 0.9985815602836879\n",
      "accuracy at time step 6900: 0.9985815602836879\n",
      "accuracy at time step 7000: 0.9990543735224586\n",
      "accuracy at time step 7100: 0.9990543735224586\n",
      "accuracy at time step 7200: 0.9981087470449173\n",
      "accuracy at time step 7300: 0.9995271867612293\n",
      "accuracy at time step 7400: 1.0\n",
      "accuracy at time step 7500: 1.0\n",
      "accuracy at time step 7600: 0.9995271867612293\n",
      "accuracy at time step 7700: 1.0\n",
      "accuracy at time step 7800: 1.0\n",
      "accuracy at time step 7900: 1.0\n",
      "accuracy at time step 8000: 1.0\n",
      "accuracy at time step 8100: 1.0\n",
      "accuracy at time step 8200: 1.0\n",
      "accuracy at time step 8300: 0.9995271867612293\n",
      "accuracy at time step 8400: 0.9995271867612293\n",
      "accuracy at time step 8500: 0.9995271867612293\n",
      "accuracy at time step 8600: 0.9995271867612293\n",
      "accuracy at time step 8700: 0.9995271867612293\n",
      "accuracy at time step 8800: 0.9995271867612293\n",
      "accuracy at time step 8900: 0.9995271867612293\n",
      "accuracy at time step 9000: 0.9995271867612293\n",
      "accuracy at time step 9100: 0.9995271867612293\n",
      "accuracy at time step 9200: 1.0\n",
      "accuracy at time step 9300: 0.9995271867612293\n",
      "accuracy at time step 9400: 0.9995271867612293\n",
      "accuracy at time step 9500: 0.9990543735224586\n",
      "accuracy at time step 9600: 0.9990543735224586\n",
      "accuracy at time step 9700: 0.9990543735224586\n",
      "accuracy at time step 9800: 0.9985815602836879\n",
      "accuracy at time step 9900: 0.9985815602836879\n",
      "accuracy at time step 10000: 0.9985815602836879\n",
      "accuracy at time step 10100: 0.9976359338061466\n",
      "accuracy at time step 10200: 0.9981087470449173\n",
      "accuracy at time step 10300: 1.0\n",
      "accuracy at time step 10400: 1.0\n",
      "accuracy at time step 10500: 0.9995271867612293\n",
      "accuracy at time step 10600: 0.9995271867612293\n",
      "accuracy at time step 10700: 0.9995271867612293\n",
      "accuracy at time step 10800: 1.0\n",
      "accuracy at time step 10900: 0.9981087470449173\n",
      "accuracy at time step 11000: 0.9981087470449173\n",
      "accuracy at time step 11100: 0.9985815602836879\n",
      "accuracy at time step 11200: 0.9990543735224586\n",
      "accuracy at time step 11300: 0.9976359338061466\n",
      "accuracy at time step 11400: 0.9995271867612293\n",
      "accuracy at time step 11500: 0.9995271867612293\n",
      "accuracy at time step 11600: 0.9995271867612293\n",
      "accuracy at time step 11700: 0.9990543735224586\n",
      "accuracy at time step 11800: 0.9995271867612293\n",
      "accuracy at time step 11900: 0.9990543735224586\n",
      "accuracy at time step 12000: 0.9990543735224586\n",
      "accuracy at time step 12100: 0.9990543735224586\n",
      "accuracy at time step 12200: 0.9990543735224586\n",
      "accuracy at time step 12300: 0.9990543735224586\n",
      "accuracy at time step 12400: 0.9990543735224586\n",
      "accuracy at time step 12500: 0.9990543735224586\n",
      "accuracy at time step 12600: 0.9990543735224586\n"
     ]
    }
   ],
   "source": [
    "trainer.train()"
   ]
  },
  {
   "cell_type": "code",
   "execution_count": 79,
   "metadata": {},
   "outputs": [
    {
     "name": "stderr",
     "output_type": "stream",
     "text": [
      "/Users/sebastianlee/Envs/meta/lib/python3.7/site-packages/ipykernel_launcher.py:3: UserWarning: Matplotlib is currently using module://ipykernel.pylab.backend_inline, which is a non-GUI backend, so cannot show the figure.\n",
      "  This is separate from the ipykernel package so we can avoid doing imports until\n",
      "/Users/sebastianlee/Envs/meta/lib/python3.7/site-packages/ipykernel_launcher.py:7: UserWarning: Matplotlib is currently using module://ipykernel.pylab.backend_inline, which is a non-GUI backend, so cannot show the figure.\n",
      "  import sys\n"
     ]
    },
    {
     "data": {
      "image/png": "[encoded data removed]",
      "text/plain": [
       "<Figure size 432x288 with 1 Axes>"
      ]
     },
     "metadata": {
      "needs_background": "light"
     },
     "output_type": "display_data"
    },
    {
     "data": {
      "image/png": "[encoded data removed]",
      "text/plain": [
       "<Figure size 432x288 with 1 Axes>"
      ]
     },
     "metadata": {
      "needs_background": "light"
     },
     "output_type": "display_data"
    }
   ],
   "source": [
    "fig = plt.figure()\n",
    "plt.plot(range(len(trainer.losses)), trainer.losses)\n",
    "fig.show()\n",
    "\n",
    "fig = plt.figure()\n",
    "plt.plot(range(len(trainer.accuracies)), trainer.accuracies)\n",
    "fig.show()"
   ]
  },
  {
   "cell_type": "code",
   "execution_count": 90,
   "metadata": {},
   "outputs": [],
   "source": [
    "td = get_test_data()"
   ]
  },
  {
   "cell_type": "code",
   "execution_count": 91,
   "metadata": {},
   "outputs": [],
   "source": [
    "test_forward = trainer.model(td[0])"
   ]
  },
  {
   "cell_type": "code",
   "execution_count": 94,
   "metadata": {},
   "outputs": [],
   "source": [
    "class_pred = np.argmax(test_forward.detach().numpy(), axis=1)"
   ]
  },
  {
   "cell_type": "code",
   "execution_count": 95,
   "metadata": {},
   "outputs": [
    {
     "data": {
      "text/plain": [
       "tensor([1., 0., 1.,  ..., 1., 0., 0.])"
      ]
     },
     "execution_count": 95,
     "metadata": {},
     "output_type": "execute_result"
    }
   ],
   "source": [
    "td[1]"
   ]
  },
  {
   "cell_type": "code",
   "execution_count": 98,
   "metadata": {},
   "outputs": [
    {
     "data": {
      "text/plain": [
       "2113"
      ]
     },
     "execution_count": 98,
     "metadata": {},
     "output_type": "execute_result"
    }
   ],
   "source": [
    "sum(td[1].numpy() == class_pred)"
   ]
  },
  {
   "cell_type": "code",
   "execution_count": 99,
   "metadata": {},
   "outputs": [
    {
     "data": {
      "text/plain": [
       "2115"
      ]
     },
     "execution_count": 99,
     "metadata": {},
     "output_type": "execute_result"
    }
   ],
   "source": [
    "len(class_pred)"
   ]
  },
  {
   "cell_type": "code",
   "execution_count": null,
   "metadata": {},
   "outputs": [],
   "source": []
  }
 ],
 "metadata": {
  "kernelspec": {
   "display_name": ".cata",
   "language": "python",
   "name": ".cata"
  },
  "language_info": {
   "codemirror_mode": {
    "name": "ipython",
    "version": 3
   },
   "file_extension": ".py",
   "mimetype": "text/x-python",
   "name": "python",
   "nbconvert_exporter": "python",
   "pygments_lexer": "ipython3",
   "version": "3.7.5"
  }
 },
 "nbformat": 4,
 "nbformat_minor": 4
}
