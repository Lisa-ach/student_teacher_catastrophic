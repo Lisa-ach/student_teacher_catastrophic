{
 "cells": [
  {
   "cell_type": "code",
   "execution_count": 1,
   "metadata": {},
   "outputs": [],
   "source": [
    "import numpy as np\n",
    "import matplotlib.pyplot as plt"
   ]
  },
  {
   "cell_type": "code",
   "execution_count": 8,
   "metadata": {},
   "outputs": [],
   "source": [
    "def i3_sigmoid(cov):\n",
    "    l3 = (1 + cov[0][0]) * (1 + cov[2][2]) - cov[0][2] ** 2\n",
    "    nom = 2 * (cov[1][2] * (1 + cov[0][0]) - cov[0][1] * cov[0][2])\n",
    "    den = np.pi * (l3 * (1 + cov[0][0])) ** 0.5\n",
    "    return nom / den"
   ]
  },
  {
   "cell_type": "code",
   "execution_count": 9,
   "metadata": {},
   "outputs": [],
   "source": [
    "def i3_relu(cov):\n",
    "    t1_nom = cov[0][1] * (cov[0][0] * cov[2][2] - cov[0][2] ** 2) ** 0.5\n",
    "    t1_den = 2 * np.pi * cov[0][0]\n",
    "    t2_nom = cov[1][2] * (np.arcsin(cov[0][2] / (cov[0][0] * cov[2][2]) ** 0.5))\n",
    "    t2_den = 2 * np.pi\n",
    "    t3 = 0.25 * cov[1][2]\n",
    "    return t1_nom / t1_den + t2_nom / t2_den + t3"
   ]
  },
  {
   "cell_type": "markdown",
   "metadata": {},
   "source": []
  },
  {
   "cell_type": "code",
   "execution_count": 13,
   "metadata": {},
   "outputs": [],
   "source": [
    "q_ii = 0.5\n",
    "u_ip = 0\n",
    "r_im = 0\n",
    "u_pi = 0\n",
    "s_pp = 1\n",
    "v_pm = 0.5\n",
    "r_mi = 0\n",
    "v_mp = 0.5\n",
    "t_mm = 1\n",
    "\n",
    "covariance_matrix = [[q_ii, u_ip, r_im],[u_pi, s_pp, v_pm],[r_mi, v_mp, t_mm]]"
   ]
  },
  {
   "cell_type": "code",
   "execution_count": 14,
   "metadata": {},
   "outputs": [
    {
     "data": {
      "text/plain": [
       "0.22507907903927654"
      ]
     },
     "execution_count": 14,
     "metadata": {},
     "output_type": "execute_result"
    }
   ],
   "source": [
    "i3_sigmoid(cov=covariance_matrix)"
   ]
  },
  {
   "cell_type": "code",
   "execution_count": 15,
   "metadata": {},
   "outputs": [
    {
     "data": {
      "text/plain": [
       "0.125"
      ]
     },
     "execution_count": 15,
     "metadata": {},
     "output_type": "execute_result"
    }
   ],
   "source": [
    "i3_relu(cov=covariance_matrix)"
   ]
  },
  {
   "cell_type": "code",
   "execution_count": 39,
   "metadata": {},
   "outputs": [],
   "source": [
    "def vary_v(v_i, v_j, N):\n",
    "    v_range = np.linspace(v_i, v_j, N)\n",
    "    \n",
    "    q_ii = 0.5\n",
    "    u_ip = 0\n",
    "    r_im = 0.5\n",
    "    u_pi = 0\n",
    "    s_pp = 1\n",
    "    r_mi = 0.5\n",
    "    t_mm = 1\n",
    "    \n",
    "    covariance_matrices = [[[q_ii, u_ip, r_im],[u_pi, s_pp, v],[r_mi, v, t_mm]] for v in v_range]\n",
    "    return covariance_matrices\n",
    "\n",
    "def vary_r(r_i, r_j, N, v):\n",
    "    r_range = np.linspace(r_i, r_j, N)\n",
    "    \n",
    "    q_ii = 0.5\n",
    "    u_ip = 0.1\n",
    "    u_pi = 0.1\n",
    "    s_pp = 1\n",
    "    t_mm = 1\n",
    "    v_mp = v\n",
    "    v_pm = v\n",
    "    \n",
    "    covariance_matrices = [[[q_ii, u_ip, r],[u_pi, s_pp, v_pm],[r, v_mp, t_mm]] for r in r_range]\n",
    "    return covariance_matrices"
   ]
  },
  {
   "cell_type": "code",
   "execution_count": 40,
   "metadata": {},
   "outputs": [
    {
     "name": "stderr",
     "output_type": "stream",
     "text": [
      "/Users/sebastianlee/Envs/cata/lib/python3.7/site-packages/ipykernel_launcher.py:2: RuntimeWarning: invalid value encountered in double_scalars\n",
      "  \n",
      "/Users/sebastianlee/Envs/cata/lib/python3.7/site-packages/ipykernel_launcher.py:4: RuntimeWarning: invalid value encountered in arcsin\n",
      "  after removing the cwd from sys.path.\n"
     ]
    }
   ],
   "source": [
    "i3_relu_vrange = [i3_relu(cov) for cov in vary_v(0, 1, 100)]\n",
    "i3_sig_vrange = [i3_sigmoid(cov) for cov in vary_v(0, 1, 100)]\n",
    "\n",
    "i3_relu_rrange = [i3_relu(cov) for cov in vary_r(0, 1, 100, 0)]\n",
    "i3_sig_rrange = [i3_sigmoid(cov) for cov in vary_r(0, 1, 100, 0)]"
   ]
  },
  {
   "cell_type": "code",
   "execution_count": 41,
   "metadata": {},
   "outputs": [
    {
     "name": "stderr",
     "output_type": "stream",
     "text": [
      "/Users/sebastianlee/Envs/cata/lib/python3.7/site-packages/ipykernel_launcher.py:3: UserWarning: Matplotlib is currently using module://ipykernel.pylab.backend_inline, which is a non-GUI backend, so cannot show the figure.\n",
      "  This is separate from the ipykernel package so we can avoid doing imports until\n"
     ]
    },
    {
     "data": {
      "image/png": "[encoded data removed]",
      "text/plain": [
       "<Figure size 432x288 with 1 Axes>"
      ]
     },
     "metadata": {
      "needs_background": "light"
     },
     "output_type": "display_data"
    }
   ],
   "source": [
    "fig = plt.figure()\n",
    "plt.plot(np.linspace(0, 1, 100), i3_relu_vrange)\n",
    "fig.show()"
   ]
  },
  {
   "cell_type": "code",
   "execution_count": 42,
   "metadata": {},
   "outputs": [
    {
     "name": "stderr",
     "output_type": "stream",
     "text": [
      "/Users/sebastianlee/Envs/cata/lib/python3.7/site-packages/ipykernel_launcher.py:3: UserWarning: Matplotlib is currently using module://ipykernel.pylab.backend_inline, which is a non-GUI backend, so cannot show the figure.\n",
      "  This is separate from the ipykernel package so we can avoid doing imports until\n"
     ]
    },
    {
     "data": {
      "image/png": "[encoded data removed]",
      "text/plain": [
       "<Figure size 432x288 with 1 Axes>"
      ]
     },
     "metadata": {
      "needs_background": "light"
     },
     "output_type": "display_data"
    }
   ],
   "source": [
    "fig = plt.figure()\n",
    "plt.plot(np.linspace(0, 1, 100), i3_sig_vrange)\n",
    "fig.show()"
   ]
  },
  {
   "cell_type": "code",
   "execution_count": 43,
   "metadata": {},
   "outputs": [
    {
     "name": "stderr",
     "output_type": "stream",
     "text": [
      "/Users/sebastianlee/Envs/cata/lib/python3.7/site-packages/ipykernel_launcher.py:3: UserWarning: Matplotlib is currently using module://ipykernel.pylab.backend_inline, which is a non-GUI backend, so cannot show the figure.\n",
      "  This is separate from the ipykernel package so we can avoid doing imports until\n"
     ]
    },
    {
     "data": {
      "image/png": "[encoded data removed]",
      "text/plain": [
       "<Figure size 432x288 with 1 Axes>"
      ]
     },
     "metadata": {
      "needs_background": "light"
     },
     "output_type": "display_data"
    }
   ],
   "source": [
    "fig = plt.figure()\n",
    "plt.plot(np.linspace(0, 1, 100), i3_sig_rrange)\n",
    "fig.show()"
   ]
  },
  {
   "cell_type": "code",
   "execution_count": 48,
   "metadata": {},
   "outputs": [
    {
     "name": "stderr",
     "output_type": "stream",
     "text": [
      "/Users/sebastianlee/Envs/cata/lib/python3.7/site-packages/ipykernel_launcher.py:3: UserWarning: Matplotlib is currently using module://ipykernel.pylab.backend_inline, which is a non-GUI backend, so cannot show the figure.\n",
      "  This is separate from the ipykernel package so we can avoid doing imports until\n"
     ]
    },
    {
     "data": {
      "image/png": "[encoded data removed]",
      "text/plain": [
       "<Figure size 432x288 with 1 Axes>"
      ]
     },
     "metadata": {
      "needs_background": "light"
     },
     "output_type": "display_data"
    }
   ],
   "source": [
    "fig = plt.figure()\n",
    "plt.plot(np.linspace(0, 1, 100), i3_relu_rrange)\n",
    "fig.show()"
   ]
  },
  {
   "cell_type": "code",
   "execution_count": null,
   "metadata": {},
   "outputs": [],
   "source": []
  },
  {
   "cell_type": "code",
   "execution_count": null,
   "metadata": {},
   "outputs": [],
   "source": []
  }
 ],
 "metadata": {
  "kernelspec": {
   "display_name": ".cata",
   "language": "python",
   "name": ".cata"
  },
  "language_info": {
   "codemirror_mode": {
    "name": "ipython",
    "version": 3
   },
   "file_extension": ".py",
   "mimetype": "text/x-python",
   "name": "python",
   "nbconvert_exporter": "python",
   "pygments_lexer": "ipython3",
   "version": "3.7.5"
  }
 },
 "nbformat": 4,
 "nbformat_minor": 4
}
